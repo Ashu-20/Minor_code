{
 "cells": [
  {
   "cell_type": "code",
   "execution_count": 1,
   "id": "837d8360",
   "metadata": {},
   "outputs": [
    {
     "name": "stdout",
     "output_type": "stream",
     "text": [
      "Import Done\n"
     ]
    }
   ],
   "source": [
    "import numpy as np \n",
    "import matplotlib.pyplot as plt\n",
    "from math import cos\n",
    "import numba\n",
    "import random\n",
    "from numba import njit\n",
    "import torch\n",
    "import torch.nn as nn\n",
    "import time\n",
    "import torchvision\n",
    "from scipy.ndimage import convolve, generate_binary_structure\n",
    "print(\"Import Done\")"
   ]
  },
  {
   "cell_type": "code",
   "execution_count": 2,
   "id": "34dd32b0",
   "metadata": {},
   "outputs": [],
   "source": [
    "start = time.time()"
   ]
  },
  {
   "cell_type": "code",
   "execution_count": 3,
   "id": "8d1d254d",
   "metadata": {},
   "outputs": [],
   "source": [
    "class ffnn(nn.Module):\n",
    "    def __init__(self,input_size,hidden_size,output_size):\n",
    "        super(ffnn,self).__init__()\n",
    "        self.input_size= input_size\n",
    "        self.l1= nn.Linear(input_size,hidden_size)\n",
    "        self.relu = nn.ReLU()\n",
    "        self.l2 = nn.Linear(hidden_size,output_size)\n",
    "        self.sigmoid = nn.Sigmoid()\n",
    "    def forward(self,x):\n",
    "        out = self.l1(x)\n",
    "        out = self.relu(out)\n",
    "        out = self.l2(out)\n",
    "        out = self.sigmoid(out)\n",
    "        return out"
   ]
  },
  {
   "cell_type": "code",
   "execution_count": 4,
   "id": "17586439",
   "metadata": {
    "scrolled": true
   },
   "outputs": [
    {
     "name": "stdout",
     "output_type": "stream",
     "text": [
      "Enter the state size: 4\n"
     ]
    }
   ],
   "source": [
    "L =  int(input(\"Enter the state size: \"))"
   ]
  },
  {
   "cell_type": "code",
   "execution_count": 5,
   "id": "4414cd9d",
   "metadata": {},
   "outputs": [],
   "source": [
    "model = ffnn(2*L,2*L,1)"
   ]
  },
  {
   "cell_type": "code",
   "execution_count": 6,
   "id": "2ae9622e",
   "metadata": {},
   "outputs": [
    {
     "name": "stdout",
     "output_type": "stream",
     "text": [
      "l1.weight tensor([[ 0.1191,  0.1054, -0.0536,  0.1855, -0.2924, -0.3263, -0.1396,  0.1837],\n",
      "        [-0.0998,  0.1032, -0.2407, -0.2039, -0.0652, -0.0113,  0.2923, -0.2786],\n",
      "        [-0.1562,  0.2342, -0.1255,  0.0441, -0.0617, -0.1029,  0.1960, -0.0328],\n",
      "        [ 0.0536,  0.3524,  0.1310, -0.3500,  0.1522,  0.3184, -0.0879, -0.0567],\n",
      "        [-0.3046, -0.1490,  0.1395,  0.1157, -0.2530, -0.3535,  0.0904, -0.1003],\n",
      "        [ 0.1926, -0.2048, -0.1149, -0.1754, -0.2261,  0.1572,  0.3282, -0.1402],\n",
      "        [-0.2981, -0.1179, -0.2099, -0.0176, -0.1544,  0.0577,  0.0446, -0.1603],\n",
      "        [ 0.0651,  0.0808,  0.0168, -0.1119, -0.0060,  0.2438, -0.1799, -0.1736]])\n",
      "l1.bias tensor([-0.2822,  0.2486,  0.3242,  0.0890,  0.2832,  0.0682,  0.1415,  0.2651])\n",
      "l2.weight tensor([[ 0.2999,  0.0932,  0.3363,  0.1627,  0.3245, -0.2470, -0.0671, -0.0711]])\n",
      "l2.bias tensor([-0.0013])\n"
     ]
    }
   ],
   "source": [
    "for name, param in model.named_parameters():\n",
    "    if param.requires_grad:\n",
    "        print(name, param.data)"
   ]
  },
  {
   "cell_type": "code",
   "execution_count": 7,
   "id": "e1700ce3",
   "metadata": {},
   "outputs": [],
   "source": [
    "def in_state(L):\n",
    "    in_state = torch.tensor(np.zeros((2*L)), dtype= torch.double)\n",
    "    x,y = random.sample(range(0,L),k=2)\n",
    "    a,b = random.sample(range(L,2*L),k=2)\n",
    "    in_state[x] = in_state[y]= in_state[a] = in_state[b]= 1\n",
    "    return in_state"
   ]
  },
  {
   "cell_type": "code",
   "execution_count": 8,
   "id": "97bc522f",
   "metadata": {},
   "outputs": [
    {
     "data": {
      "text/plain": [
       "tensor([1., 1., 0., 0., 0., 1., 1., 0.], dtype=torch.float64)"
      ]
     },
     "execution_count": 8,
     "metadata": {},
     "output_type": "execute_result"
    }
   ],
   "source": [
    "initial_state = in_state(L)\n",
    "initial_state\n"
   ]
  },
  {
   "cell_type": "markdown",
   "id": "e8dfbd46",
   "metadata": {},
   "source": [
    "in_state = torch.tensor(np.zeros((2*L)), dtype= torch.double) #creating 1D lattice with given size\n",
    "in_state"
   ]
  },
  {
   "cell_type": "markdown",
   "id": "55813fb0",
   "metadata": {},
   "source": [
    "x,y = random.sample(range(0,L),k=2)\n",
    "a,b = random.sample(range(L,2*L),k=2)\n",
    "in_state[x] = in_state[y]= in_state[a] = in_state[b]= 1"
   ]
  },
  {
   "cell_type": "markdown",
   "id": "a359a372",
   "metadata": {},
   "source": [
    "in_state"
   ]
  },
  {
   "cell_type": "code",
   "execution_count": 9,
   "id": "a2293a93",
   "metadata": {},
   "outputs": [
    {
     "data": {
      "text/plain": [
       "tensor([0.5413], grad_fn=<SigmoidBackward0>)"
      ]
     },
     "execution_count": 9,
     "metadata": {},
     "output_type": "execute_result"
    }
   ],
   "source": [
    "model(initial_state.float())"
   ]
  },
  {
   "cell_type": "code",
   "execution_count": 10,
   "id": "e658e390",
   "metadata": {},
   "outputs": [],
   "source": [
    "def gen_next_upspin(state):\n",
    "    psi_current = model(state.float())\n",
    "    next_state = torch.tensor(np.zeros((2*L)), dtype= torch.double) #creating 1D lattice with given size\n",
    "    next_state[L:2*L] = state[L:2*L]\n",
    "    #print(\"initial next state: \",next_state)\n",
    "    \n",
    "    while True:  \n",
    "        x,y = random.sample(range(0,L), k=2)\n",
    "        next_state[x] = next_state[y] =1\n",
    "        if torch.equal(state,next_state)== False:\n",
    "            break\n",
    "    #print('final next state: ',next_state)\n",
    "    psi_next = model(next_state.float())\n",
    "    \n",
    "    ratio = psi_next/psi_current \n",
    "    #print('ratio: ',ratio)\n",
    "    prob = (abs(ratio))**2\n",
    "    #print('Probability :',prob)\n",
    "    a = random.random()\n",
    "    #print(\"a: \",a)\n",
    "    if a<prob:\n",
    "        # Accept the new state\n",
    "        return next_state\n",
    "    else:\n",
    "        return state\n",
    "        \n",
    "        "
   ]
  },
  {
   "cell_type": "code",
   "execution_count": 11,
   "id": "f1e59d80",
   "metadata": {},
   "outputs": [],
   "source": [
    "def gen_next_downspin(state):\n",
    "    next_state = torch.tensor(np.zeros((2*L)), dtype= torch.double)\n",
    "    next_state[0:L] = state[0:L]\n",
    "    #print('Initial next state: ',next_state)\n",
    "    while True:  \n",
    "        x,y = random.sample(range(L,2*L), k=2)\n",
    "        next_state[x] = next_state[y] =1\n",
    "        if torch.equal(state,next_state)== False:\n",
    "            break\n",
    "    #print('Final next state: ',next_state)\n",
    "    ratio = model(next_state.float())/model(state.float()) \n",
    "    #print('ratio: ',ratio)\n",
    "    prob = (abs(ratio))**2\n",
    "    #print('Probability: ',prob)\n",
    "    a = random.random()\n",
    "    #print('a: ',a)\n",
    "    if a<prob:\n",
    "        # Accept the new state\n",
    "        return next_state\n",
    "    else:\n",
    "        return state"
   ]
  },
  {
   "cell_type": "code",
   "execution_count": 12,
   "id": "c7ddd21c",
   "metadata": {},
   "outputs": [
    {
     "data": {
      "text/plain": [
       "tensor([1., 0., 1., 0., 0., 1., 1., 0.], dtype=torch.float64)"
      ]
     },
     "execution_count": 12,
     "metadata": {},
     "output_type": "execute_result"
    }
   ],
   "source": [
    "state_up= gen_next_upspin(initial_state)\n",
    "state_up"
   ]
  },
  {
   "cell_type": "code",
   "execution_count": 13,
   "id": "0aea0c7a",
   "metadata": {},
   "outputs": [
    {
     "data": {
      "text/plain": [
       "tensor([1., 1., 0., 0., 1., 0., 0., 1.], dtype=torch.float64)"
      ]
     },
     "execution_count": 13,
     "metadata": {},
     "output_type": "execute_result"
    }
   ],
   "source": [
    "state_down = gen_next_downspin(initial_state)\n",
    "state_down"
   ]
  },
  {
   "cell_type": "code",
   "execution_count": 14,
   "id": "e85ae4ef",
   "metadata": {
    "scrolled": true
   },
   "outputs": [
    {
     "data": {
      "text/plain": [
       "tensor([1., 1., 0., 0., 0., 1., 1., 0.], dtype=torch.float64)"
      ]
     },
     "execution_count": 14,
     "metadata": {},
     "output_type": "execute_result"
    }
   ],
   "source": [
    "initial_state"
   ]
  },
  {
   "cell_type": "code",
   "execution_count": 15,
   "id": "5fda6b12",
   "metadata": {},
   "outputs": [],
   "source": [
    "t = 1\n",
    "U= 0\n"
   ]
  },
  {
   "cell_type": "code",
   "execution_count": 16,
   "id": "afcc5119",
   "metadata": {},
   "outputs": [],
   "source": [
    "def mc_state(state):\n",
    "    for i in range(0,L):\n",
    "        state = gen_next_upspin(state)\n",
    "    for i in range(0,L):\n",
    "        state = gen_next_downspin(state)\n",
    "        \n",
    "    return state\n",
    "    "
   ]
  },
  {
   "cell_type": "code",
   "execution_count": 17,
   "id": "1d0104ba",
   "metadata": {},
   "outputs": [],
   "source": [
    "def get_kin_energy_up(state,t):\n",
    "    sum = 0\n",
    "    kern= torch.tensor([1,1])\n",
    "    psi_in = model(state.float())\n",
    "    arr= convolve(state[0:L],kern,mode = 'wrap')\n",
    "    for i in range(L):\n",
    "        if arr[i]==1:\n",
    "            if i != L-1:\n",
    "                hopping_state = state.clone() \n",
    "                hopping_state[i],hopping_state[i+1]= state[i+1],state[i]\n",
    "                sum+= (model(hopping_state.float())/psi_in)\n",
    "                #print('sum: ',sum)\n",
    "            elif i== L-1:\n",
    "                hopping_state = state.clone() \n",
    "                hopping_state[i],hopping_state[0]= state[0],state[i]\n",
    "                sum+= (model(hopping_state.float())/psi_in)\n",
    "                #print('sum: ',sum)\n",
    "    return -t*sum"
   ]
  },
  {
   "cell_type": "code",
   "execution_count": 18,
   "id": "1fb15bf3",
   "metadata": {},
   "outputs": [],
   "source": [
    "def get_kin_energy_down(state,t):\n",
    "    sum = 0\n",
    "    kern = torch.tensor([1,1])\n",
    "    psi_in = model(state.float())\n",
    "    arr = convolve(state[L:2*L],kern,mode = 'wrap')\n",
    "    for i in range(L):\n",
    "        if arr[i] ==1:\n",
    "            if i!= L-1:\n",
    "                hopping_state= state.clone()\n",
    "                hopping_state[i+L],hopping_state[i+L+1]= state[i+L+1],state[i+L]\n",
    "                ratio = model(hopping_state.float())/psi_in\n",
    "                sum+=ratio\n",
    "            elif i==L-1:\n",
    "                hopping_state = state.clone()\n",
    "                hopping_state[i+L],hopping_state[L]= state[L],state[i+L]\n",
    "                ratio= model(hopping_state.float())/psi_in\n",
    "                sum+=ratio\n",
    "    return -t*sum"
   ]
  },
  {
   "cell_type": "code",
   "execution_count": 19,
   "id": "9ca02d29",
   "metadata": {},
   "outputs": [
    {
     "data": {
      "text/plain": [
       "tensor([0., 1., 0., 1., 1., 0., 0., 1.])"
      ]
     },
     "execution_count": 19,
     "metadata": {},
     "output_type": "execute_result"
    }
   ],
   "source": [
    "state = torch.tensor([0.,1.,0.,1.,1.,0.,0.,1.])\n",
    "state"
   ]
  },
  {
   "cell_type": "code",
   "execution_count": 20,
   "id": "a1f850d3",
   "metadata": {},
   "outputs": [
    {
     "data": {
      "text/plain": [
       "tensor([-3.8865], grad_fn=<MulBackward0>)"
      ]
     },
     "execution_count": 20,
     "metadata": {},
     "output_type": "execute_result"
    }
   ],
   "source": [
    "get_kin_energy_up(state,t)"
   ]
  },
  {
   "cell_type": "code",
   "execution_count": 21,
   "id": "eb3f1449",
   "metadata": {
    "scrolled": true
   },
   "outputs": [
    {
     "data": {
      "text/plain": [
       "tensor([-2.0586], grad_fn=<MulBackward0>)"
      ]
     },
     "execution_count": 21,
     "metadata": {},
     "output_type": "execute_result"
    }
   ],
   "source": [
    "get_kin_energy_down(state,t)"
   ]
  },
  {
   "cell_type": "code",
   "execution_count": 22,
   "id": "dbaa7c5b",
   "metadata": {},
   "outputs": [],
   "source": [
    "def kinetic_energy(state,t):\n",
    "    return (get_kin_energy_up(state,t) + get_kin_energy_down(state,t))"
   ]
  },
  {
   "cell_type": "code",
   "execution_count": 23,
   "id": "5dde3817",
   "metadata": {},
   "outputs": [
    {
     "data": {
      "text/plain": [
       "tensor([-5.9451], grad_fn=<AddBackward0>)"
      ]
     },
     "execution_count": 23,
     "metadata": {},
     "output_type": "execute_result"
    }
   ],
   "source": [
    "kinetic_energy(state,t)"
   ]
  },
  {
   "cell_type": "code",
   "execution_count": 24,
   "id": "5908aed9",
   "metadata": {},
   "outputs": [],
   "source": [
    "def interaction_energy(state,U):\n",
    "    sum = 0\n",
    "    for i in range(L):\n",
    "        if state[i] ==1 and state[i+L]==1:\n",
    "            sum+=1\n",
    "    return U*sum"
   ]
  },
  {
   "cell_type": "code",
   "execution_count": 25,
   "id": "ba7741da",
   "metadata": {},
   "outputs": [],
   "source": [
    "def get_total_energy(state,t,U):\n",
    "    return (kinetic_energy(state,t) + interaction_energy(state,U))"
   ]
  },
  {
   "cell_type": "code",
   "execution_count": 26,
   "id": "b9b1c4bf",
   "metadata": {},
   "outputs": [
    {
     "data": {
      "text/plain": [
       "tensor([-5.9451], grad_fn=<AddBackward0>)"
      ]
     },
     "execution_count": 26,
     "metadata": {},
     "output_type": "execute_result"
    }
   ],
   "source": [
    "get_total_energy(state,t,U)"
   ]
  },
  {
   "cell_type": "code",
   "execution_count": 27,
   "id": "68350729",
   "metadata": {},
   "outputs": [],
   "source": [
    "def run_mc_sim():\n",
    "    energy = 0\n",
    "    state = in_state(L)\n",
    "    mc_step = 1000\n",
    "    warm_step = 1000\n",
    "    for i in range(0,warm_step):\n",
    "        state = mc_state(state)\n",
    "        #print(state)\n",
    "        \n",
    "        \n",
    "    for i in range(0,mc_step):\n",
    "        state = mc_state(state)\n",
    "        en = get_total_energy(state,t,U)/L\n",
    "        energy+= en\n",
    "    return energy/mc_step"
   ]
  },
  {
   "cell_type": "code",
   "execution_count": 28,
   "id": "d0653f4f",
   "metadata": {},
   "outputs": [],
   "source": [
    "y= run_mc_sim()\n",
    "Ene= y.detach().numpy()[0]"
   ]
  },
  {
   "cell_type": "code",
   "execution_count": 29,
   "id": "c65e46bc",
   "metadata": {},
   "outputs": [
    {
     "data": {
      "text/plain": [
       "tensor([-1.2578], grad_fn=<DivBackward0>)"
      ]
     },
     "execution_count": 29,
     "metadata": {},
     "output_type": "execute_result"
    }
   ],
   "source": [
    "y"
   ]
  },
  {
   "cell_type": "code",
   "execution_count": 30,
   "id": "2fb771fb",
   "metadata": {},
   "outputs": [
    {
     "data": {
      "text/plain": [
       "-1.2465034"
      ]
     },
     "execution_count": 30,
     "metadata": {},
     "output_type": "execute_result"
    }
   ],
   "source": [
    "run_mc_sim().detach().numpy()[0]"
   ]
  },
  {
   "cell_type": "markdown",
   "id": "cb74b3fb",
   "metadata": {},
   "source": [
    "# Genetic optimization of NN"
   ]
  },
  {
   "cell_type": "code",
   "execution_count": 31,
   "id": "f1478ec5",
   "metadata": {},
   "outputs": [],
   "source": [
    "import pygad.torchga as ga\n",
    "import pygad"
   ]
  },
  {
   "cell_type": "code",
   "execution_count": 32,
   "id": "b9d7167e",
   "metadata": {},
   "outputs": [],
   "source": [
    "torch_ga = ga.TorchGA(model = model,\n",
    "                     num_solutions=10)  # constructing TorchGa class\n"
   ]
  },
  {
   "cell_type": "code",
   "execution_count": 33,
   "id": "ad1b0f7f",
   "metadata": {},
   "outputs": [],
   "source": [
    "e_ref = -5.0"
   ]
  },
  {
   "cell_type": "code",
   "execution_count": 34,
   "id": "7cf9bfc6",
   "metadata": {},
   "outputs": [],
   "source": [
    "def fitness(solution,sol_idx):\n",
    "    global torch_ga,model\n",
    "    model_weights_dict = ga.model_weights_as_dict(model= model,\n",
    "                                                 weights_vector=solution)\n",
    "    \n",
    "    model.load_state_dict(model_weights_dict)\n",
    "    \n",
    "    #fitness = 1.0/(get_total_energy(state,t,U).detach().numpy()[0]  + 0.0001)\n",
    "    energy = run_mc_sim().detach().numpy()[0] - e_ref\n",
    "    fitness = 1.0/(energy)\n",
    "    return fitness"
   ]
  },
  {
   "cell_type": "code",
   "execution_count": 35,
   "id": "4ee79aa6",
   "metadata": {},
   "outputs": [],
   "source": [
    "def optimal_enenrgy(fitness_val):\n",
    "    return (1/fitness_val) + e_ref"
   ]
  },
  {
   "cell_type": "code",
   "execution_count": 36,
   "id": "421b68c7",
   "metadata": {},
   "outputs": [],
   "source": [
    "def callback_generation(ga_instance):\n",
    "    print(\"Generation = {generation}\".format(generation=ga_instance.generations_completed))\n",
    "    fitness=ga_instance.best_solution()[1]\n",
    "    print(\"Fitness    = {}\".format(fitness))\n",
    "    print(\"Energy = {}\".format(optimal_enenrgy(fitness)))"
   ]
  },
  {
   "cell_type": "code",
   "execution_count": 37,
   "id": "2a0399d8",
   "metadata": {},
   "outputs": [],
   "source": [
    "num_generations = 200\n",
    "num_parents_mating = 5\n",
    "initial_population = torch_ga.population_weights\n",
    "\n",
    "ga_instance = pygad.GA(num_generations=num_generations,\n",
    "                       num_parents_mating=num_parents_mating,\n",
    "                       initial_population=initial_population,\n",
    "                       fitness_func=fitness,\n",
    "                       on_generation=callback_generation)"
   ]
  },
  {
   "cell_type": "code",
   "execution_count": 38,
   "id": "36541232",
   "metadata": {
    "scrolled": false
   },
   "outputs": [
    {
     "name": "stdout",
     "output_type": "stream",
     "text": [
      "Generation = 1\n",
      "Fitness    = 0.26887439667907137\n",
      "Energy = -1.280791282653809\n",
      "Generation = 2\n",
      "Fitness    = 0.2692439460290391\n",
      "Energy = -1.2858960628509517\n",
      "Generation = 3\n",
      "Fitness    = 0.26957907513570367\n",
      "Energy = -1.290513277053833\n",
      "Generation = 4\n",
      "Fitness    = 0.26957907513570367\n",
      "Energy = -1.290513277053833\n",
      "Generation = 5\n",
      "Fitness    = 0.2704505593178279\n",
      "Energy = -1.3024665117263794\n",
      "Generation = 6\n",
      "Fitness    = 0.2709221222852143\n",
      "Energy = -1.3089023828506474\n",
      "Generation = 7\n",
      "Fitness    = 0.2709221222852143\n",
      "Energy = -1.3089023828506474\n",
      "Generation = 8\n",
      "Fitness    = 0.2709221222852143\n",
      "Energy = -1.3089023828506474\n",
      "Generation = 9\n",
      "Fitness    = 0.2709221222852143\n",
      "Energy = -1.3089023828506474\n",
      "Generation = 10\n",
      "Fitness    = 0.2709221222852143\n",
      "Energy = -1.3089023828506474\n",
      "Generation = 11\n",
      "Fitness    = 0.2709221222852143\n",
      "Energy = -1.3089023828506474\n",
      "Generation = 12\n",
      "Fitness    = 0.2709221222852143\n",
      "Energy = -1.3089023828506474\n",
      "Generation = 13\n",
      "Fitness    = 0.2709221222852143\n",
      "Energy = -1.3089023828506474\n",
      "Generation = 14\n",
      "Fitness    = 0.2716978296518484\n",
      "Energy = -1.3194406032562256\n",
      "Generation = 15\n",
      "Fitness    = 0.2716978296518484\n",
      "Energy = -1.3194406032562256\n",
      "Generation = 16\n",
      "Fitness    = 0.2722520640309397\n",
      "Energy = -1.3269332647323608\n",
      "Generation = 17\n",
      "Fitness    = 0.2722520640309397\n",
      "Energy = -1.3269332647323608\n",
      "Generation = 18\n",
      "Fitness    = 0.2722520640309397\n",
      "Energy = -1.3269332647323608\n",
      "Generation = 19\n",
      "Fitness    = 0.2722520640309397\n",
      "Energy = -1.3269332647323608\n",
      "Generation = 20\n",
      "Fitness    = 0.2722520640309397\n",
      "Energy = -1.3269332647323608\n",
      "Generation = 21\n",
      "Fitness    = 0.2722520640309397\n",
      "Energy = -1.3269332647323608\n",
      "Generation = 22\n",
      "Fitness    = 0.2722520640309397\n",
      "Energy = -1.3269332647323608\n",
      "Generation = 23\n",
      "Fitness    = 0.2722520640309397\n",
      "Energy = -1.3269332647323608\n",
      "Generation = 24\n",
      "Fitness    = 0.2722520640309397\n",
      "Energy = -1.3269332647323608\n",
      "Generation = 25\n",
      "Fitness    = 0.2722520640309397\n",
      "Energy = -1.3269332647323608\n",
      "Generation = 26\n",
      "Fitness    = 0.2722520640309397\n",
      "Energy = -1.3269332647323608\n",
      "Generation = 27\n",
      "Fitness    = 0.2722520640309397\n",
      "Energy = -1.3269332647323608\n",
      "Generation = 28\n",
      "Fitness    = 0.2722520640309397\n",
      "Energy = -1.3269332647323608\n",
      "Generation = 29\n",
      "Fitness    = 0.2722520640309397\n",
      "Energy = -1.3269332647323608\n",
      "Generation = 30\n",
      "Fitness    = 0.2722520640309397\n",
      "Energy = -1.3269332647323608\n",
      "Generation = 31\n",
      "Fitness    = 0.2722520640309397\n",
      "Energy = -1.3269332647323608\n",
      "Generation = 32\n",
      "Fitness    = 0.2722520640309397\n",
      "Energy = -1.3269332647323608\n",
      "Generation = 33\n",
      "Fitness    = 0.2722520640309397\n",
      "Energy = -1.3269332647323608\n",
      "Generation = 34\n",
      "Fitness    = 0.2722520640309397\n",
      "Energy = -1.3269332647323608\n",
      "Generation = 35\n",
      "Fitness    = 0.2722520640309397\n",
      "Energy = -1.3269332647323608\n",
      "Generation = 36\n",
      "Fitness    = 0.2722520640309397\n",
      "Energy = -1.3269332647323608\n",
      "Generation = 37\n",
      "Fitness    = 0.2722520640309397\n",
      "Energy = -1.3269332647323608\n",
      "Generation = 38\n",
      "Fitness    = 0.2722520640309397\n",
      "Energy = -1.3269332647323608\n",
      "Generation = 39\n",
      "Fitness    = 0.2722520640309397\n",
      "Energy = -1.3269332647323608\n",
      "Generation = 40\n",
      "Fitness    = 0.2722520640309397\n",
      "Energy = -1.3269332647323608\n",
      "Generation = 41\n",
      "Fitness    = 0.2722520640309397\n",
      "Energy = -1.3269332647323608\n",
      "Generation = 42\n",
      "Fitness    = 0.2722520640309397\n",
      "Energy = -1.3269332647323608\n",
      "Generation = 43\n",
      "Fitness    = 0.2722520640309397\n",
      "Energy = -1.3269332647323608\n",
      "Generation = 44\n",
      "Fitness    = 0.2722520640309397\n",
      "Energy = -1.3269332647323608\n",
      "Generation = 45\n",
      "Fitness    = 0.2722520640309397\n",
      "Energy = -1.3269332647323608\n",
      "Generation = 46\n",
      "Fitness    = 0.2722520640309397\n",
      "Energy = -1.3269332647323608\n",
      "Generation = 47\n",
      "Fitness    = 0.2722520640309397\n",
      "Energy = -1.3269332647323608\n",
      "Generation = 48\n",
      "Fitness    = 0.2722520640309397\n",
      "Energy = -1.3269332647323608\n",
      "Generation = 49\n",
      "Fitness    = 0.2722520640309397\n",
      "Energy = -1.3269332647323608\n",
      "Generation = 50\n",
      "Fitness    = 0.2722520640309397\n",
      "Energy = -1.3269332647323608\n",
      "Generation = 51\n",
      "Fitness    = 0.2722520640309397\n",
      "Energy = -1.3269332647323608\n",
      "Generation = 52\n",
      "Fitness    = 0.2722520640309397\n",
      "Energy = -1.3269332647323608\n",
      "Generation = 53\n",
      "Fitness    = 0.2722520640309397\n",
      "Energy = -1.3269332647323608\n",
      "Generation = 54\n",
      "Fitness    = 0.2722520640309397\n",
      "Energy = -1.3269332647323608\n",
      "Generation = 55\n",
      "Fitness    = 0.2722520640309397\n",
      "Energy = -1.3269332647323608\n",
      "Generation = 56\n",
      "Fitness    = 0.2722520640309397\n",
      "Energy = -1.3269332647323608\n",
      "Generation = 57\n",
      "Fitness    = 0.2722520640309397\n",
      "Energy = -1.3269332647323608\n",
      "Generation = 58\n",
      "Fitness    = 0.2722520640309397\n",
      "Energy = -1.3269332647323608\n",
      "Generation = 59\n",
      "Fitness    = 0.2722520640309397\n",
      "Energy = -1.3269332647323608\n",
      "Generation = 60\n",
      "Fitness    = 0.2722520640309397\n",
      "Energy = -1.3269332647323608\n",
      "Generation = 61\n",
      "Fitness    = 0.2722520640309397\n",
      "Energy = -1.3269332647323608\n",
      "Generation = 62\n",
      "Fitness    = 0.2722520640309397\n",
      "Energy = -1.3269332647323608\n",
      "Generation = 63\n",
      "Fitness    = 0.2722520640309397\n",
      "Energy = -1.3269332647323608\n",
      "Generation = 64\n",
      "Fitness    = 0.2722520640309397\n",
      "Energy = -1.3269332647323608\n",
      "Generation = 65\n",
      "Fitness    = 0.2722520640309397\n",
      "Energy = -1.3269332647323608\n",
      "Generation = 66\n",
      "Fitness    = 0.2722520640309397\n",
      "Energy = -1.3269332647323608\n",
      "Generation = 67\n",
      "Fitness    = 0.2722520640309397\n",
      "Energy = -1.3269332647323608\n",
      "Generation = 68\n",
      "Fitness    = 0.2722520640309397\n",
      "Energy = -1.3269332647323608\n",
      "Generation = 69\n",
      "Fitness    = 0.2722520640309397\n",
      "Energy = -1.3269332647323608\n",
      "Generation = 70\n",
      "Fitness    = 0.2722520640309397\n",
      "Energy = -1.3269332647323608\n",
      "Generation = 71\n",
      "Fitness    = 0.2722520640309397\n",
      "Energy = -1.3269332647323608\n",
      "Generation = 72\n",
      "Fitness    = 0.2722520640309397\n",
      "Energy = -1.3269332647323608\n",
      "Generation = 73\n",
      "Fitness    = 0.2722520640309397\n",
      "Energy = -1.3269332647323608\n",
      "Generation = 74\n",
      "Fitness    = 0.2722520640309397\n",
      "Energy = -1.3269332647323608\n",
      "Generation = 75\n",
      "Fitness    = 0.2722520640309397\n",
      "Energy = -1.3269332647323608\n",
      "Generation = 76\n",
      "Fitness    = 0.2722520640309397\n",
      "Energy = -1.3269332647323608\n",
      "Generation = 77\n",
      "Fitness    = 0.2722520640309397\n",
      "Energy = -1.3269332647323608\n",
      "Generation = 78\n",
      "Fitness    = 0.2722520640309397\n",
      "Energy = -1.3269332647323608\n",
      "Generation = 79\n",
      "Fitness    = 0.2722520640309397\n",
      "Energy = -1.3269332647323608\n",
      "Generation = 80\n",
      "Fitness    = 0.2722520640309397\n",
      "Energy = -1.3269332647323608\n",
      "Generation = 81\n",
      "Fitness    = 0.2722520640309397\n",
      "Energy = -1.3269332647323608\n",
      "Generation = 82\n",
      "Fitness    = 0.2722520640309397\n",
      "Energy = -1.3269332647323608\n",
      "Generation = 83\n",
      "Fitness    = 0.2722520640309397\n",
      "Energy = -1.3269332647323608\n",
      "Generation = 84\n",
      "Fitness    = 0.2722520640309397\n",
      "Energy = -1.3269332647323608\n",
      "Generation = 85\n",
      "Fitness    = 0.2722520640309397\n",
      "Energy = -1.3269332647323608\n",
      "Generation = 86\n",
      "Fitness    = 0.2722520640309397\n",
      "Energy = -1.3269332647323608\n",
      "Generation = 87\n",
      "Fitness    = 0.2722520640309397\n",
      "Energy = -1.3269332647323608\n",
      "Generation = 88\n",
      "Fitness    = 0.2722520640309397\n",
      "Energy = -1.3269332647323608\n",
      "Generation = 89\n",
      "Fitness    = 0.2722520640309397\n",
      "Energy = -1.3269332647323608\n",
      "Generation = 90\n",
      "Fitness    = 0.27228325845166773\n",
      "Energy = -1.327354073524475\n",
      "Generation = 91\n",
      "Fitness    = 0.27228325845166773\n",
      "Energy = -1.327354073524475\n",
      "Generation = 92\n",
      "Fitness    = 0.27228325845166773\n",
      "Energy = -1.327354073524475\n",
      "Generation = 93\n",
      "Fitness    = 0.27228325845166773\n",
      "Energy = -1.327354073524475\n",
      "Generation = 94\n",
      "Fitness    = 0.27228325845166773\n",
      "Energy = -1.327354073524475\n",
      "Generation = 95\n",
      "Fitness    = 0.27228325845166773\n",
      "Energy = -1.327354073524475\n",
      "Generation = 96\n",
      "Fitness    = 0.27228325845166773\n",
      "Energy = -1.327354073524475\n",
      "Generation = 97\n",
      "Fitness    = 0.27228325845166773\n",
      "Energy = -1.327354073524475\n",
      "Generation = 98\n",
      "Fitness    = 0.27228325845166773\n",
      "Energy = -1.327354073524475\n",
      "Generation = 99\n",
      "Fitness    = 0.27228325845166773\n",
      "Energy = -1.327354073524475\n",
      "Generation = 100\n",
      "Fitness    = 0.27228325845166773\n",
      "Energy = -1.327354073524475\n",
      "Generation = 101\n",
      "Fitness    = 0.27228325845166773\n",
      "Energy = -1.327354073524475\n",
      "Generation = 102\n",
      "Fitness    = 0.27228325845166773\n",
      "Energy = -1.327354073524475\n",
      "Generation = 103\n",
      "Fitness    = 0.27228325845166773\n",
      "Energy = -1.327354073524475\n",
      "Generation = 104\n",
      "Fitness    = 0.27228325845166773\n",
      "Energy = -1.327354073524475\n",
      "Generation = 105\n",
      "Fitness    = 0.27228325845166773\n",
      "Energy = -1.327354073524475\n",
      "Generation = 106\n",
      "Fitness    = 0.27228325845166773\n",
      "Energy = -1.327354073524475\n",
      "Generation = 107\n",
      "Fitness    = 0.27228325845166773\n",
      "Energy = -1.327354073524475\n"
     ]
    },
    {
     "name": "stdout",
     "output_type": "stream",
     "text": [
      "Generation = 108\n",
      "Fitness    = 0.27228325845166773\n",
      "Energy = -1.327354073524475\n",
      "Generation = 109\n",
      "Fitness    = 0.27228325845166773\n",
      "Energy = -1.327354073524475\n",
      "Generation = 110\n",
      "Fitness    = 0.27228325845166773\n",
      "Energy = -1.327354073524475\n",
      "Generation = 111\n",
      "Fitness    = 0.27228325845166773\n",
      "Energy = -1.327354073524475\n",
      "Generation = 112\n",
      "Fitness    = 0.27228325845166773\n",
      "Energy = -1.327354073524475\n",
      "Generation = 113\n",
      "Fitness    = 0.27228325845166773\n",
      "Energy = -1.327354073524475\n",
      "Generation = 114\n",
      "Fitness    = 0.27244231968405735\n",
      "Energy = -1.329498291015625\n",
      "Generation = 115\n",
      "Fitness    = 0.27244231968405735\n",
      "Energy = -1.329498291015625\n",
      "Generation = 116\n",
      "Fitness    = 0.27244231968405735\n",
      "Energy = -1.329498291015625\n",
      "Generation = 117\n",
      "Fitness    = 0.27244231968405735\n",
      "Energy = -1.329498291015625\n",
      "Generation = 118\n",
      "Fitness    = 0.27244231968405735\n",
      "Energy = -1.329498291015625\n",
      "Generation = 119\n",
      "Fitness    = 0.27244231968405735\n",
      "Energy = -1.329498291015625\n",
      "Generation = 120\n",
      "Fitness    = 0.27244231968405735\n",
      "Energy = -1.329498291015625\n",
      "Generation = 121\n",
      "Fitness    = 0.27244231968405735\n",
      "Energy = -1.329498291015625\n",
      "Generation = 122\n",
      "Fitness    = 0.27244231968405735\n",
      "Energy = -1.329498291015625\n",
      "Generation = 123\n",
      "Fitness    = 0.27244231968405735\n",
      "Energy = -1.329498291015625\n",
      "Generation = 124\n",
      "Fitness    = 0.27244231968405735\n",
      "Energy = -1.329498291015625\n",
      "Generation = 125\n",
      "Fitness    = 0.27244231968405735\n",
      "Energy = -1.329498291015625\n",
      "Generation = 126\n",
      "Fitness    = 0.27244231968405735\n",
      "Energy = -1.329498291015625\n",
      "Generation = 127\n",
      "Fitness    = 0.27244231968405735\n",
      "Energy = -1.329498291015625\n",
      "Generation = 128\n",
      "Fitness    = 0.27244231968405735\n",
      "Energy = -1.329498291015625\n",
      "Generation = 129\n",
      "Fitness    = 0.27244231968405735\n",
      "Energy = -1.329498291015625\n",
      "Generation = 130\n",
      "Fitness    = 0.27244231968405735\n",
      "Energy = -1.329498291015625\n",
      "Generation = 131\n",
      "Fitness    = 0.27244231968405735\n",
      "Energy = -1.329498291015625\n",
      "Generation = 132\n",
      "Fitness    = 0.27244231968405735\n",
      "Energy = -1.329498291015625\n",
      "Generation = 133\n",
      "Fitness    = 0.27244231968405735\n",
      "Energy = -1.329498291015625\n",
      "Generation = 134\n",
      "Fitness    = 0.27244231968405735\n",
      "Energy = -1.329498291015625\n",
      "Generation = 135\n",
      "Fitness    = 0.27244231968405735\n",
      "Energy = -1.329498291015625\n",
      "Generation = 136\n",
      "Fitness    = 0.27244231968405735\n",
      "Energy = -1.329498291015625\n",
      "Generation = 137\n",
      "Fitness    = 0.27244231968405735\n",
      "Energy = -1.329498291015625\n",
      "Generation = 138\n",
      "Fitness    = 0.27244231968405735\n",
      "Energy = -1.329498291015625\n",
      "Generation = 139\n",
      "Fitness    = 0.27244231968405735\n",
      "Energy = -1.329498291015625\n",
      "Generation = 140\n",
      "Fitness    = 0.27244231968405735\n",
      "Energy = -1.329498291015625\n",
      "Generation = 141\n",
      "Fitness    = 0.27244231968405735\n",
      "Energy = -1.329498291015625\n",
      "Generation = 142\n",
      "Fitness    = 0.2727063427587052\n",
      "Energy = -1.3330519199371338\n",
      "Generation = 143\n",
      "Fitness    = 0.27244231968405735\n",
      "Energy = -1.329498291015625\n",
      "Generation = 144\n",
      "Fitness    = 0.27244231968405735\n",
      "Energy = -1.329498291015625\n",
      "Generation = 145\n",
      "Fitness    = 0.27244231968405735\n",
      "Energy = -1.329498291015625\n",
      "Generation = 146\n",
      "Fitness    = 0.27244231968405735\n",
      "Energy = -1.329498291015625\n",
      "Generation = 147\n",
      "Fitness    = 0.27244231968405735\n",
      "Energy = -1.329498291015625\n",
      "Generation = 148\n",
      "Fitness    = 0.27244231968405735\n",
      "Energy = -1.329498291015625\n",
      "Generation = 149\n",
      "Fitness    = 0.27244231968405735\n",
      "Energy = -1.329498291015625\n",
      "Generation = 150\n",
      "Fitness    = 0.27244231968405735\n",
      "Energy = -1.329498291015625\n",
      "Generation = 151\n",
      "Fitness    = 0.27244231968405735\n",
      "Energy = -1.329498291015625\n",
      "Generation = 152\n",
      "Fitness    = 0.27244231968405735\n",
      "Energy = -1.329498291015625\n",
      "Generation = 153\n",
      "Fitness    = 0.27244231968405735\n",
      "Energy = -1.329498291015625\n",
      "Generation = 154\n",
      "Fitness    = 0.27244231968405735\n",
      "Energy = -1.329498291015625\n",
      "Generation = 155\n",
      "Fitness    = 0.27244231968405735\n",
      "Energy = -1.329498291015625\n",
      "Generation = 156\n",
      "Fitness    = 0.27244231968405735\n",
      "Energy = -1.329498291015625\n",
      "Generation = 157\n",
      "Fitness    = 0.27244231968405735\n",
      "Energy = -1.329498291015625\n",
      "Generation = 158\n",
      "Fitness    = 0.27244231968405735\n",
      "Energy = -1.329498291015625\n",
      "Generation = 159\n",
      "Fitness    = 0.27244231968405735\n",
      "Energy = -1.329498291015625\n",
      "Generation = 160\n",
      "Fitness    = 0.27244231968405735\n",
      "Energy = -1.329498291015625\n",
      "Generation = 161\n",
      "Fitness    = 0.27244231968405735\n",
      "Energy = -1.329498291015625\n",
      "Generation = 162\n",
      "Fitness    = 0.27244231968405735\n",
      "Energy = -1.329498291015625\n",
      "Generation = 163\n",
      "Fitness    = 0.27244231968405735\n",
      "Energy = -1.329498291015625\n",
      "Generation = 164\n",
      "Fitness    = 0.27244231968405735\n",
      "Energy = -1.329498291015625\n",
      "Generation = 165\n",
      "Fitness    = 0.27244231968405735\n",
      "Energy = -1.329498291015625\n",
      "Generation = 166\n",
      "Fitness    = 0.27244231968405735\n",
      "Energy = -1.329498291015625\n",
      "Generation = 167\n",
      "Fitness    = 0.27244231968405735\n",
      "Energy = -1.329498291015625\n",
      "Generation = 168\n",
      "Fitness    = 0.27244231968405735\n",
      "Energy = -1.329498291015625\n",
      "Generation = 169\n",
      "Fitness    = 0.27244231968405735\n",
      "Energy = -1.329498291015625\n",
      "Generation = 170\n",
      "Fitness    = 0.27244231968405735\n",
      "Energy = -1.329498291015625\n",
      "Generation = 171\n",
      "Fitness    = 0.27244231968405735\n",
      "Energy = -1.329498291015625\n",
      "Generation = 172\n",
      "Fitness    = 0.27244231968405735\n",
      "Energy = -1.329498291015625\n",
      "Generation = 173\n",
      "Fitness    = 0.27244231968405735\n",
      "Energy = -1.329498291015625\n",
      "Generation = 174\n",
      "Fitness    = 0.27244231968405735\n",
      "Energy = -1.329498291015625\n",
      "Generation = 175\n",
      "Fitness    = 0.27244231968405735\n",
      "Energy = -1.329498291015625\n",
      "Generation = 176\n",
      "Fitness    = 0.27244231968405735\n",
      "Energy = -1.329498291015625\n",
      "Generation = 177\n",
      "Fitness    = 0.27244231968405735\n",
      "Energy = -1.329498291015625\n",
      "Generation = 178\n",
      "Fitness    = 0.27244231968405735\n",
      "Energy = -1.329498291015625\n",
      "Generation = 179\n",
      "Fitness    = 0.27244231968405735\n",
      "Energy = -1.329498291015625\n",
      "Generation = 180\n",
      "Fitness    = 0.27244231968405735\n",
      "Energy = -1.329498291015625\n",
      "Generation = 181\n",
      "Fitness    = 0.27244231968405735\n",
      "Energy = -1.329498291015625\n",
      "Generation = 182\n",
      "Fitness    = 0.27244231968405735\n",
      "Energy = -1.329498291015625\n",
      "Generation = 183\n",
      "Fitness    = 0.27244231968405735\n",
      "Energy = -1.329498291015625\n",
      "Generation = 184\n",
      "Fitness    = 0.27244231968405735\n",
      "Energy = -1.329498291015625\n",
      "Generation = 185\n",
      "Fitness    = 0.27244231968405735\n",
      "Energy = -1.329498291015625\n",
      "Generation = 186\n",
      "Fitness    = 0.27244231968405735\n",
      "Energy = -1.329498291015625\n",
      "Generation = 187\n",
      "Fitness    = 0.27244231968405735\n",
      "Energy = -1.329498291015625\n",
      "Generation = 188\n",
      "Fitness    = 0.27244231968405735\n",
      "Energy = -1.329498291015625\n",
      "Generation = 189\n",
      "Fitness    = 0.27244231968405735\n",
      "Energy = -1.329498291015625\n",
      "Generation = 190\n",
      "Fitness    = 0.27244231968405735\n",
      "Energy = -1.329498291015625\n",
      "Generation = 191\n",
      "Fitness    = 0.27244231968405735\n",
      "Energy = -1.329498291015625\n",
      "Generation = 192\n",
      "Fitness    = 0.27244231968405735\n",
      "Energy = -1.329498291015625\n",
      "Generation = 193\n",
      "Fitness    = 0.27244231968405735\n",
      "Energy = -1.329498291015625\n",
      "Generation = 194\n",
      "Fitness    = 0.27244231968405735\n",
      "Energy = -1.329498291015625\n",
      "Generation = 195\n",
      "Fitness    = 0.27244231968405735\n",
      "Energy = -1.329498291015625\n",
      "Generation = 196\n",
      "Fitness    = 0.27244231968405735\n",
      "Energy = -1.329498291015625\n",
      "Generation = 197\n",
      "Fitness    = 0.27244231968405735\n",
      "Energy = -1.329498291015625\n",
      "Generation = 198\n",
      "Fitness    = 0.27244231968405735\n",
      "Energy = -1.329498291015625\n",
      "Generation = 199\n",
      "Fitness    = 0.27244231968405735\n",
      "Energy = -1.329498291015625\n",
      "Generation = 200\n",
      "Fitness    = 0.27244231968405735\n",
      "Energy = -1.329498291015625\n"
     ]
    }
   ],
   "source": [
    "ga_instance.run()"
   ]
  },
  {
   "cell_type": "code",
   "execution_count": 39,
   "id": "0cd37ff6",
   "metadata": {},
   "outputs": [
    {
     "name": "stderr",
     "output_type": "stream",
     "text": [
      "/home/ashuworld/pythonenv/lib/python3.9/site-packages/pygad/pygad.py:3591: UserWarning: Please use the plot_fitness() method instead of plot_result(). The plot_result() method will be removed in the future.\n",
      "  warnings.warn(\"Please use the plot_fitness() method instead of plot_result(). The plot_result() method will be removed in the future.\")\n"
     ]
    },
    {
     "data": {
      "image/png": "[encoded data removed]",
      "text/plain": [
       "<Figure size 640x480 with 1 Axes>"
      ]
     },
     "metadata": {},
     "output_type": "display_data"
    },
    {
     "data": {
      "image/png": "[encoded data removed]",
      "text/plain": [
       "<Figure size 640x480 with 1 Axes>"
      ]
     },
     "execution_count": 39,
     "metadata": {},
     "output_type": "execute_result"
    }
   ],
   "source": [
    "ga_instance.plot_result(title=\"PyGAD & PyTorch - Iteration vs. Fitness\")"
   ]
  },
  {
   "cell_type": "code",
   "execution_count": 40,
   "id": "5b3c2427",
   "metadata": {},
   "outputs": [
    {
     "name": "stdout",
     "output_type": "stream",
     "text": [
      "Fitness value of the best solution = 0.27244231968405735\n"
     ]
    }
   ],
   "source": [
    "solution, solution_fitness, solution_idx = ga_instance.best_solution()\n",
    "print(\"Fitness value of the best solution = {solution_fitness}\".format(solution_fitness=solution_fitness))\n",
    "#print(\"Index of the best solution : {solution_idx}\".format(solution_idx=solution_idx))"
   ]
  },
  {
   "cell_type": "code",
   "execution_count": 41,
   "id": "e29e11e9",
   "metadata": {},
   "outputs": [
    {
     "name": "stdout",
     "output_type": "stream",
     "text": [
      "Sun Apr 23 13:01:27 IST 2023\r\n"
     ]
    }
   ],
   "source": [
    "!date"
   ]
  },
  {
   "cell_type": "markdown",
   "id": "6f310695",
   "metadata": {},
   "source": [
    "run start 22-04-2023 15:31 PM\n",
    "\n"
   ]
  },
  {
   "cell_type": "markdown",
   "id": "bb014357",
   "metadata": {},
   "source": [
    "Total time 8hrs 45 min"
   ]
  },
  {
   "cell_type": "code",
   "execution_count": 42,
   "id": "8a89c1ee",
   "metadata": {},
   "outputs": [
    {
     "data": {
      "text/plain": [
       "-1.329498291015625"
      ]
     },
     "execution_count": 42,
     "metadata": {},
     "output_type": "execute_result"
    }
   ],
   "source": [
    "optimal_enenrgy(solution_fitness)"
   ]
  },
  {
   "cell_type": "code",
   "execution_count": 43,
   "id": "f3582ccb",
   "metadata": {},
   "outputs": [],
   "source": [
    "# Fetch the parameters of the best solution.\n",
    "best_solution_weights = ga.model_weights_as_dict(model=model,\n",
    "                                                      weights_vector=solution)\n",
    "\n"
   ]
  },
  {
   "cell_type": "code",
   "execution_count": 44,
   "id": "c1aa6a76",
   "metadata": {},
   "outputs": [
    {
     "data": {
      "text/plain": [
       "OrderedDict([('l1.weight',\n",
       "              tensor([[ 0.4738, -0.5669, -0.2731, -0.5051, -0.3506,  0.6277, -1.1123,  0.9040],\n",
       "                      [-1.7454,  0.3044,  0.0508, -0.1689,  0.1799, -1.1318,  0.7304,  0.0674],\n",
       "                      [ 0.0695,  0.6612, -1.0533,  0.1426, -1.1694,  0.6912, -1.2660,  0.0189],\n",
       "                      [ 0.0917, -0.4674,  0.6131, -1.6350, -0.3189, -0.9494, -0.9618, -1.9268],\n",
       "                      [ 0.9367, -1.7500,  1.2851, -0.8862,  0.2624, -0.6812,  0.7167, -0.5921],\n",
       "                      [ 0.6826, -1.3785, -0.4515, -1.0355, -1.3705,  0.1939,  0.9392,  1.4874],\n",
       "                      [ 0.4118, -1.5115, -2.9693, -0.1905, -0.9645,  0.0786, -0.1626, -0.0755],\n",
       "                      [ 0.9463, -0.0648,  0.5473, -0.1374, -0.4747,  0.5443,  0.8452, -2.1273]],\n",
       "                     dtype=torch.float64)),\n",
       "             ('l1.bias',\n",
       "              tensor([-1.1652,  0.6446,  0.4243,  0.9771, -0.1360,  0.0088, -0.0627, -0.4123],\n",
       "                     dtype=torch.float64)),\n",
       "             ('l2.weight',\n",
       "              tensor([[ 2.7826,  0.8079,  1.6304,  1.4019,  1.1522,  0.1456, -0.2109,  0.0187]],\n",
       "                     dtype=torch.float64)),\n",
       "             ('l2.bias', tensor([0.0254], dtype=torch.float64))])"
      ]
     },
     "execution_count": 44,
     "metadata": {},
     "output_type": "execute_result"
    }
   ],
   "source": [
    "best_solution_weights"
   ]
  },
  {
   "cell_type": "code",
   "execution_count": 45,
   "id": "270b1952",
   "metadata": {},
   "outputs": [
    {
     "name": "stdout",
     "output_type": "stream",
     "text": [
      "8.73252216802703\n"
     ]
    }
   ],
   "source": [
    "end = time.time()\n",
    "print((end-start)/3600)"
   ]
  },
  {
   "cell_type": "markdown",
   "id": "4a10b413",
   "metadata": {},
   "source": [
    "# Gradient Based Optimization"
   ]
  },
  {
   "cell_type": "code",
   "execution_count": 46,
   "id": "d09f30ee",
   "metadata": {},
   "outputs": [],
   "source": [
    "from torch.functional import F"
   ]
  },
  {
   "cell_type": "code",
   "execution_count": 47,
   "id": "04686eca",
   "metadata": {},
   "outputs": [],
   "source": [
    "optimizer = torch.optim.Adam(model.parameters(), lr=0.001)"
   ]
  },
  {
   "cell_type": "code",
   "execution_count": 48,
   "id": "861075ca",
   "metadata": {},
   "outputs": [],
   "source": [
    "loss_lst = []\n",
    "y= torch.tensor([-2.0])\n",
    "for i in range(100):\n",
    "    pred = model(state.float())#.detach().numpy()[0]\n",
    "    loss = F.mse_loss(pred, y).sqrt()\n",
    "    loss.backward()\n",
    "    optimizer.step()\n",
    "    optimizer.zero_grad()\n",
    "    loss_lst.append(loss)"
   ]
  },
  {
   "cell_type": "code",
   "execution_count": 49,
   "id": "d073b095",
   "metadata": {},
   "outputs": [
    {
     "name": "stdout",
     "output_type": "stream",
     "text": [
      "[tensor(2.9855, grad_fn=<SqrtBackward0>), tensor(2.9853, grad_fn=<SqrtBackward0>), tensor(2.9850, grad_fn=<SqrtBackward0>), tensor(2.9848, grad_fn=<SqrtBackward0>), tensor(2.9845, grad_fn=<SqrtBackward0>), tensor(2.9842, grad_fn=<SqrtBackward0>), tensor(2.9840, grad_fn=<SqrtBackward0>), tensor(2.9837, grad_fn=<SqrtBackward0>), tensor(2.9834, grad_fn=<SqrtBackward0>), tensor(2.9832, grad_fn=<SqrtBackward0>), tensor(2.9829, grad_fn=<SqrtBackward0>), tensor(2.9826, grad_fn=<SqrtBackward0>), tensor(2.9823, grad_fn=<SqrtBackward0>), tensor(2.9820, grad_fn=<SqrtBackward0>), tensor(2.9817, grad_fn=<SqrtBackward0>), tensor(2.9814, grad_fn=<SqrtBackward0>), tensor(2.9811, grad_fn=<SqrtBackward0>), tensor(2.9807, grad_fn=<SqrtBackward0>), tensor(2.9804, grad_fn=<SqrtBackward0>), tensor(2.9801, grad_fn=<SqrtBackward0>), tensor(2.9797, grad_fn=<SqrtBackward0>), tensor(2.9794, grad_fn=<SqrtBackward0>), tensor(2.9790, grad_fn=<SqrtBackward0>), tensor(2.9787, grad_fn=<SqrtBackward0>), tensor(2.9783, grad_fn=<SqrtBackward0>), tensor(2.9779, grad_fn=<SqrtBackward0>), tensor(2.9776, grad_fn=<SqrtBackward0>), tensor(2.9772, grad_fn=<SqrtBackward0>), tensor(2.9768, grad_fn=<SqrtBackward0>), tensor(2.9764, grad_fn=<SqrtBackward0>), tensor(2.9759, grad_fn=<SqrtBackward0>), tensor(2.9755, grad_fn=<SqrtBackward0>), tensor(2.9751, grad_fn=<SqrtBackward0>), tensor(2.9746, grad_fn=<SqrtBackward0>), tensor(2.9742, grad_fn=<SqrtBackward0>), tensor(2.9737, grad_fn=<SqrtBackward0>), tensor(2.9732, grad_fn=<SqrtBackward0>), tensor(2.9728, grad_fn=<SqrtBackward0>), tensor(2.9723, grad_fn=<SqrtBackward0>), tensor(2.9718, grad_fn=<SqrtBackward0>), tensor(2.9712, grad_fn=<SqrtBackward0>), tensor(2.9707, grad_fn=<SqrtBackward0>), tensor(2.9702, grad_fn=<SqrtBackward0>), tensor(2.9696, grad_fn=<SqrtBackward0>), tensor(2.9691, grad_fn=<SqrtBackward0>), tensor(2.9685, grad_fn=<SqrtBackward0>), tensor(2.9679, grad_fn=<SqrtBackward0>), tensor(2.9673, grad_fn=<SqrtBackward0>), tensor(2.9667, grad_fn=<SqrtBackward0>), tensor(2.9660, grad_fn=<SqrtBackward0>), tensor(2.9654, grad_fn=<SqrtBackward0>), tensor(2.9647, grad_fn=<SqrtBackward0>), tensor(2.9641, grad_fn=<SqrtBackward0>), tensor(2.9634, grad_fn=<SqrtBackward0>), tensor(2.9627, grad_fn=<SqrtBackward0>), tensor(2.9619, grad_fn=<SqrtBackward0>), tensor(2.9612, grad_fn=<SqrtBackward0>), tensor(2.9604, grad_fn=<SqrtBackward0>), tensor(2.9597, grad_fn=<SqrtBackward0>), tensor(2.9589, grad_fn=<SqrtBackward0>), tensor(2.9581, grad_fn=<SqrtBackward0>), tensor(2.9572, grad_fn=<SqrtBackward0>), tensor(2.9564, grad_fn=<SqrtBackward0>), tensor(2.9555, grad_fn=<SqrtBackward0>), tensor(2.9546, grad_fn=<SqrtBackward0>), tensor(2.9537, grad_fn=<SqrtBackward0>), tensor(2.9528, grad_fn=<SqrtBackward0>), tensor(2.9519, grad_fn=<SqrtBackward0>), tensor(2.9509, grad_fn=<SqrtBackward0>), tensor(2.9499, grad_fn=<SqrtBackward0>), tensor(2.9489, grad_fn=<SqrtBackward0>), tensor(2.9478, grad_fn=<SqrtBackward0>), tensor(2.9468, grad_fn=<SqrtBackward0>), tensor(2.9457, grad_fn=<SqrtBackward0>), tensor(2.9446, grad_fn=<SqrtBackward0>), tensor(2.9434, grad_fn=<SqrtBackward0>), tensor(2.9423, grad_fn=<SqrtBackward0>), tensor(2.9411, grad_fn=<SqrtBackward0>), tensor(2.9399, grad_fn=<SqrtBackward0>), tensor(2.9386, grad_fn=<SqrtBackward0>), tensor(2.9373, grad_fn=<SqrtBackward0>), tensor(2.9360, grad_fn=<SqrtBackward0>), tensor(2.9347, grad_fn=<SqrtBackward0>), tensor(2.9333, grad_fn=<SqrtBackward0>), tensor(2.9319, grad_fn=<SqrtBackward0>), tensor(2.9305, grad_fn=<SqrtBackward0>), tensor(2.9291, grad_fn=<SqrtBackward0>), tensor(2.9276, grad_fn=<SqrtBackward0>), tensor(2.9260, grad_fn=<SqrtBackward0>), tensor(2.9245, grad_fn=<SqrtBackward0>), tensor(2.9229, grad_fn=<SqrtBackward0>), tensor(2.9213, grad_fn=<SqrtBackward0>), tensor(2.9196, grad_fn=<SqrtBackward0>), tensor(2.9179, grad_fn=<SqrtBackward0>), tensor(2.9162, grad_fn=<SqrtBackward0>), tensor(2.9144, grad_fn=<SqrtBackward0>), tensor(2.9126, grad_fn=<SqrtBackward0>), tensor(2.9107, grad_fn=<SqrtBackward0>), tensor(2.9088, grad_fn=<SqrtBackward0>), tensor(2.9069, grad_fn=<SqrtBackward0>)]\n"
     ]
    }
   ],
   "source": [
    "print(loss_lst)"
   ]
  },
  {
   "cell_type": "code",
   "execution_count": null,
   "id": "b7fa5880",
   "metadata": {},
   "outputs": [],
   "source": []
  },
  {
   "cell_type": "code",
   "execution_count": 50,
   "id": "200a355b",
   "metadata": {},
   "outputs": [
    {
     "name": "stdout",
     "output_type": "stream",
     "text": [
      "tensor([ 0,  1,  2,  3,  4,  5,  6,  7,  8,  9, 10, 11, 12, 13, 14, 15, 16, 17,\n",
      "        18, 19, 20, 21, 22, 23, 24, 25, 26, 27, 28, 29, 30, 31, 32, 33, 34, 35,\n",
      "        36, 37, 38, 39, 40, 41, 42, 43, 44, 45, 46, 47, 48, 49, 50, 51, 52, 53,\n",
      "        54, 55, 56, 57, 58, 59, 60, 61, 62, 63, 64, 65, 66, 67, 68, 69, 70, 71,\n",
      "        72, 73, 74, 75, 76, 77, 78, 79, 80, 81, 82, 83, 84, 85, 86, 87, 88, 89,\n",
      "        90, 91, 92, 93, 94, 95, 96, 97, 98, 99])\n"
     ]
    }
   ],
   "source": [
    "x = torch.arange(100)\n",
    "print(x)"
   ]
  },
  {
   "cell_type": "code",
   "execution_count": 51,
   "id": "74c9f4b9",
   "metadata": {},
   "outputs": [
    {
     "name": "stdout",
     "output_type": "stream",
     "text": [
      "<class 'torch.Tensor'>\n"
     ]
    }
   ],
   "source": [
    "print(type(x))"
   ]
  },
  {
   "cell_type": "code",
   "execution_count": 52,
   "id": "17ad3063",
   "metadata": {},
   "outputs": [
    {
     "name": "stdout",
     "output_type": "stream",
     "text": [
      "tensor([4.0000, 2.7358, 2.2707, 2.0996, 2.0366, 2.0135, 2.0050, 2.0018, 2.0007,\n",
      "        2.0002, 2.0001, 2.0000, 2.0000, 2.0000, 2.0000, 2.0000, 2.0000, 2.0000,\n",
      "        2.0000, 2.0000, 2.0000, 2.0000, 2.0000, 2.0000, 2.0000, 2.0000, 2.0000,\n",
      "        2.0000, 2.0000, 2.0000, 2.0000, 2.0000, 2.0000, 2.0000, 2.0000, 2.0000,\n",
      "        2.0000, 2.0000, 2.0000, 2.0000, 2.0000, 2.0000, 2.0000, 2.0000, 2.0000,\n",
      "        2.0000, 2.0000, 2.0000, 2.0000, 2.0000, 2.0000, 2.0000, 2.0000, 2.0000,\n",
      "        2.0000, 2.0000, 2.0000, 2.0000, 2.0000, 2.0000, 2.0000, 2.0000, 2.0000,\n",
      "        2.0000, 2.0000, 2.0000, 2.0000, 2.0000, 2.0000, 2.0000, 2.0000, 2.0000,\n",
      "        2.0000, 2.0000, 2.0000, 2.0000, 2.0000, 2.0000, 2.0000, 2.0000, 2.0000,\n",
      "        2.0000, 2.0000, 2.0000, 2.0000, 2.0000, 2.0000, 2.0000, 2.0000, 2.0000,\n",
      "        2.0000, 2.0000, 2.0000, 2.0000, 2.0000, 2.0000, 2.0000, 2.0000, 2.0000,\n",
      "        2.0000], dtype=torch.float64)\n"
     ]
    }
   ],
   "source": [
    "y = 2*np.exp(-1*x)+2.0\n",
    "print(y)"
   ]
  },
  {
   "cell_type": "code",
   "execution_count": 53,
   "id": "e141ebfd",
   "metadata": {},
   "outputs": [
    {
     "name": "stdout",
     "output_type": "stream",
     "text": [
      "<class 'torch.Tensor'>\n"
     ]
    }
   ],
   "source": [
    "print(type(y))"
   ]
  },
  {
   "cell_type": "code",
   "execution_count": 54,
   "id": "f7215713",
   "metadata": {},
   "outputs": [
    {
     "name": "stdout",
     "output_type": "stream",
     "text": [
      "l1.weight tensor([[-0.1745, -1.2428, -0.5439, -0.0219, -0.4574,  0.6277, -1.4832,  0.9040],\n",
      "        [-2.6111,  0.1794,  0.0508, -0.2939,  0.6691, -1.1318,  0.7304, -0.0576],\n",
      "        [ 0.2734,  0.1205, -1.4821,  0.0165, -0.4689,  1.1590, -1.2022,  0.4495],\n",
      "        [ 0.3516, -0.8430,  0.0086, -1.3763,  0.5593, -1.6547, -1.2375, -2.3423],\n",
      "        [ 1.8034, -2.1129,  1.2851, -0.8862,  0.2624, -1.4263,  1.1800, -0.5921],\n",
      "        [ 0.7409, -1.3785, -0.4515, -0.3381, -2.1890,  1.2188,  1.2141,  1.4874],\n",
      "        [ 0.4118, -0.8483, -2.5510, -0.1905, -0.4629,  0.0786,  0.4792, -0.0755],\n",
      "        [ 0.2360, -0.9076,  0.8697, -0.1374, -0.5945, -0.0686,  0.8452, -2.1273]])\n",
      "l1.bias tensor([-1.8643,  1.3899,  0.5038,  1.8952, -0.1360,  0.2490,  0.3878, -0.4514])\n",
      "l2.weight tensor([[2.3246, 0.6844, 1.5120, 0.6770, 2.3382, 0.1456, 0.2288, 0.7764]])\n",
      "l2.bias tensor([0.0223])\n"
     ]
    }
   ],
   "source": [
    "for name, param in model.named_parameters():\n",
    "    if param.requires_grad:\n",
    "        print(name, param.data)"
   ]
  },
  {
   "cell_type": "code",
   "execution_count": 55,
   "id": "508810cb",
   "metadata": {
    "scrolled": true
   },
   "outputs": [
    {
     "data": {
      "text/plain": [
       "tensor([-1.3014], grad_fn=<DivBackward0>)"
      ]
     },
     "execution_count": 55,
     "metadata": {},
     "output_type": "execute_result"
    }
   ],
   "source": [
    "run_mc_sim()"
   ]
  },
  {
   "cell_type": "code",
   "execution_count": 56,
   "id": "1520d084",
   "metadata": {},
   "outputs": [],
   "source": [
    "import time"
   ]
  },
  {
   "cell_type": "code",
   "execution_count": 57,
   "id": "6b983611",
   "metadata": {},
   "outputs": [],
   "source": [
    "x = time.time()"
   ]
  },
  {
   "cell_type": "code",
   "execution_count": 58,
   "id": "99d62158",
   "metadata": {},
   "outputs": [],
   "source": [
    "y = time.time()"
   ]
  },
  {
   "cell_type": "code",
   "execution_count": 59,
   "id": "31b18ce4",
   "metadata": {},
   "outputs": [
    {
     "name": "stdout",
     "output_type": "stream",
     "text": [
      "0.009889841079711914\n"
     ]
    }
   ],
   "source": [
    "print(y-x)"
   ]
  }
 ],
 "metadata": {
  "kernelspec": {
   "display_name": "pyhtonenv",
   "language": "python",
   "name": "pyhtonenv"
  },
  "language_info": {
   "codemirror_mode": {
    "name": "ipython",
    "version": 3
   },
   "file_extension": ".py",
   "mimetype": "text/x-python",
   "name": "python",
   "nbconvert_exporter": "python",
   "pygments_lexer": "ipython3",
   "version": "3.9.13"
  }
 },
 "nbformat": 4,
 "nbformat_minor": 5
}
