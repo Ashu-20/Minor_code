{
 "cells": [
  {
   "cell_type": "code",
   "execution_count": 1,
   "id": "837d8360",
   "metadata": {},
   "outputs": [
    {
     "name": "stdout",
     "output_type": "stream",
     "text": [
      "Import Done\n"
     ]
    }
   ],
   "source": [
    "import numpy as np \n",
    "import matplotlib.pyplot as plt\n",
    "from math import cos\n",
    "import numba\n",
    "import random\n",
    "from numba import njit\n",
    "import torch\n",
    "import torch.nn as nn\n",
    "import torchvision\n",
    "from scipy.ndimage import convolve, generate_binary_structure\n",
    "print(\"Import Done\")"
   ]
  },
  {
   "cell_type": "code",
   "execution_count": 7,
   "id": "beade313",
   "metadata": {},
   "outputs": [
    {
     "name": "stdout",
     "output_type": "stream",
     "text": [
      "1.10.1\n"
     ]
    }
   ],
   "source": [
    "import scipy \n",
    "print(scipy.__version__)"
   ]
  },
  {
   "cell_type": "code",
   "execution_count": 3,
   "id": "8d1d254d",
   "metadata": {},
   "outputs": [],
   "source": [
    "class ffnn(nn.Module):\n",
    "    def __init__(self,input_size,hidden_size,output_size):\n",
    "        super(ffnn,self).__init__()\n",
    "        self.input_size= input_size\n",
    "        self.l1= nn.Linear(input_size,hidden_size)\n",
    "        self.relu = nn.ReLU()\n",
    "        self.l2 = nn.Linear(hidden_size,output_size)\n",
    "        self.sigmoid = nn.Sigmoid()\n",
    "    def forward(self,x):\n",
    "        out = self.l1(x)\n",
    "        out = self.relu(out)\n",
    "        out = self.l2(out)\n",
    "        out = self.sigmoid(out)\n",
    "        return out"
   ]
  },
  {
   "cell_type": "code",
   "execution_count": 4,
   "id": "17586439",
   "metadata": {
    "scrolled": true
   },
   "outputs": [
    {
     "name": "stdout",
     "output_type": "stream",
     "text": [
      "Enter the state size: 4\n"
     ]
    }
   ],
   "source": [
    "L =  int(input(\"Enter the state size: \"))"
   ]
  },
  {
   "cell_type": "code",
   "execution_count": 5,
   "id": "4414cd9d",
   "metadata": {},
   "outputs": [],
   "source": [
    "model = ffnn(2*L,2*L,1)"
   ]
  },
  {
   "cell_type": "code",
   "execution_count": 6,
   "id": "2ae9622e",
   "metadata": {},
   "outputs": [
    {
     "name": "stdout",
     "output_type": "stream",
     "text": [
      "l1.weight tensor([[-0.3072, -0.0155,  0.2231, -0.3045,  0.2676,  0.2124, -0.2095, -0.3397],\n",
      "        [-0.0568, -0.1322, -0.1061,  0.0443,  0.2087,  0.2817,  0.0392, -0.1661],\n",
      "        [-0.3350,  0.0556, -0.2067,  0.1254,  0.1164, -0.3020, -0.0316, -0.3047],\n",
      "        [-0.1169, -0.2536,  0.1641,  0.3360, -0.3172,  0.2971,  0.0872, -0.1172],\n",
      "        [ 0.1594,  0.2420, -0.0059,  0.1694,  0.1856,  0.2124,  0.3255,  0.3337],\n",
      "        [ 0.2156, -0.3399, -0.1898,  0.0672, -0.0267,  0.0436, -0.1661,  0.2568],\n",
      "        [-0.0690,  0.1533, -0.1574,  0.0962,  0.1324, -0.2693, -0.2407,  0.1086],\n",
      "        [ 0.1807,  0.3400,  0.0420, -0.3177,  0.0703,  0.1958, -0.2737,  0.2045]])\n",
      "l1.bias tensor([ 0.3048,  0.2609,  0.1096, -0.3206, -0.2822, -0.2498, -0.1056, -0.1945])\n",
      "l2.weight tensor([[ 0.3197, -0.0586,  0.3039,  0.2289,  0.1715,  0.3297, -0.0639, -0.0847]])\n",
      "l2.bias tensor([0.1821])\n"
     ]
    }
   ],
   "source": [
    "for name, param in model.named_parameters():\n",
    "    if param.requires_grad:\n",
    "        print(name, param.data)"
   ]
  },
  {
   "cell_type": "code",
   "execution_count": 7,
   "id": "e1700ce3",
   "metadata": {},
   "outputs": [],
   "source": [
    "def in_state(L):\n",
    "    in_state = torch.tensor(np.zeros((2*L)), dtype= torch.double)\n",
    "    x,y = random.sample(range(0,L),k=2)\n",
    "    a,b = random.sample(range(L,2*L),k=2)\n",
    "    in_state[x] = in_state[y]= in_state[a] = in_state[b]= 1\n",
    "    return in_state"
   ]
  },
  {
   "cell_type": "code",
   "execution_count": 8,
   "id": "97bc522f",
   "metadata": {},
   "outputs": [
    {
     "data": {
      "text/plain": [
       "tensor([0., 0., 1., 1., 1., 0., 1., 0.], dtype=torch.float64)"
      ]
     },
     "execution_count": 8,
     "metadata": {},
     "output_type": "execute_result"
    }
   ],
   "source": [
    "initial_state = in_state(L)\n",
    "initial_state\n"
   ]
  },
  {
   "cell_type": "markdown",
   "id": "e8dfbd46",
   "metadata": {},
   "source": [
    "in_state = torch.tensor(np.zeros((2*L)), dtype= torch.double) #creating 1D lattice with given size\n",
    "in_state"
   ]
  },
  {
   "cell_type": "markdown",
   "id": "55813fb0",
   "metadata": {},
   "source": [
    "x,y = random.sample(range(0,L),k=2)\n",
    "a,b = random.sample(range(L,2*L),k=2)\n",
    "in_state[x] = in_state[y]= in_state[a] = in_state[b]= 1"
   ]
  },
  {
   "cell_type": "markdown",
   "id": "a359a372",
   "metadata": {},
   "source": [
    "in_state"
   ]
  },
  {
   "cell_type": "code",
   "execution_count": 9,
   "id": "a2293a93",
   "metadata": {},
   "outputs": [
    {
     "data": {
      "text/plain": [
       "tensor([0.5860], grad_fn=<SigmoidBackward0>)"
      ]
     },
     "execution_count": 9,
     "metadata": {},
     "output_type": "execute_result"
    }
   ],
   "source": [
    "model(initial_state.float())"
   ]
  },
  {
   "cell_type": "code",
   "execution_count": 10,
   "id": "e658e390",
   "metadata": {},
   "outputs": [],
   "source": [
    "def gen_next_upspin(state):\n",
    "    psi_current = model(state.float())\n",
    "    next_state = torch.tensor(np.zeros((2*L)), dtype= torch.double) #creating 1D lattice with given size\n",
    "    next_state[L:2*L] = state[L:2*L]\n",
    "    #print(\"initial next state: \",next_state)\n",
    "    \n",
    "    while True:  \n",
    "        x,y = random.sample(range(0,L), k=2)\n",
    "        next_state[x] = next_state[y] =1\n",
    "        if torch.equal(state,next_state)== False:\n",
    "            break\n",
    "    #print('final next state: ',next_state)\n",
    "    psi_next = model(next_state.float())\n",
    "    \n",
    "    ratio = psi_next/psi_current \n",
    "    #print('ratio: ',ratio)\n",
    "    prob = (abs(ratio))**2\n",
    "    #print('Probability :',prob)\n",
    "    a = random.random()\n",
    "    #print(\"a: \",a)\n",
    "    if a<prob:\n",
    "        # Accept the new state\n",
    "        return next_state\n",
    "    else:\n",
    "        return state\n",
    "        \n",
    "        "
   ]
  },
  {
   "cell_type": "code",
   "execution_count": 11,
   "id": "f1e59d80",
   "metadata": {},
   "outputs": [],
   "source": [
    "def gen_next_downspin(state):\n",
    "    next_state = torch.tensor(np.zeros((2*L)), dtype= torch.double)\n",
    "    next_state[0:L] = state[0:L]\n",
    "    #print('Initial next state: ',next_state)\n",
    "    while True:  \n",
    "        x,y = random.sample(range(L,2*L), k=2)\n",
    "        next_state[x] = next_state[y] =1\n",
    "        if torch.equal(state,next_state)== False:\n",
    "            break\n",
    "    #print('Final next state: ',next_state)\n",
    "    ratio = model(next_state.float())/model(state.float()) \n",
    "    #print('ratio: ',ratio)\n",
    "    prob = (abs(ratio))**2\n",
    "    #print('Probability: ',prob)\n",
    "    a = random.random()\n",
    "    #print('a: ',a)\n",
    "    if a<prob:\n",
    "        # Accept the new state\n",
    "        return next_state\n",
    "    else:\n",
    "        return state"
   ]
  },
  {
   "cell_type": "code",
   "execution_count": 12,
   "id": "c7ddd21c",
   "metadata": {},
   "outputs": [
    {
     "data": {
      "text/plain": [
       "tensor([1., 1., 1., 1., 1., 0., 1., 0.], dtype=torch.float64)"
      ]
     },
     "execution_count": 12,
     "metadata": {},
     "output_type": "execute_result"
    }
   ],
   "source": [
    "state_up= gen_next_upspin(initial_state)\n",
    "state_up"
   ]
  },
  {
   "cell_type": "code",
   "execution_count": 13,
   "id": "0aea0c7a",
   "metadata": {},
   "outputs": [
    {
     "data": {
      "text/plain": [
       "tensor([0., 0., 1., 1., 0., 0., 1., 1.], dtype=torch.float64)"
      ]
     },
     "execution_count": 13,
     "metadata": {},
     "output_type": "execute_result"
    }
   ],
   "source": [
    "state_down = gen_next_downspin(initial_state)\n",
    "state_down"
   ]
  },
  {
   "cell_type": "code",
   "execution_count": 14,
   "id": "e85ae4ef",
   "metadata": {
    "scrolled": true
   },
   "outputs": [
    {
     "data": {
      "text/plain": [
       "tensor([0., 0., 1., 1., 1., 0., 1., 0.], dtype=torch.float64)"
      ]
     },
     "execution_count": 14,
     "metadata": {},
     "output_type": "execute_result"
    }
   ],
   "source": [
    "initial_state"
   ]
  },
  {
   "cell_type": "code",
   "execution_count": 15,
   "id": "5fda6b12",
   "metadata": {},
   "outputs": [],
   "source": [
    "t = 1\n",
    "U= 10\n"
   ]
  },
  {
   "cell_type": "code",
   "execution_count": 16,
   "id": "afcc5119",
   "metadata": {},
   "outputs": [],
   "source": [
    "def mc_state(state):\n",
    "    for i in range(0,L):\n",
    "        state = gen_next_upspin(state)\n",
    "    for i in range(0,L):\n",
    "        state = gen_next_downspin(state)\n",
    "        \n",
    "    return state\n",
    "    "
   ]
  },
  {
   "cell_type": "code",
   "execution_count": 17,
   "id": "1d0104ba",
   "metadata": {},
   "outputs": [],
   "source": [
    "def get_kin_energy_up(state,t):\n",
    "    sum = 0\n",
    "    kern= torch.tensor([1,1])\n",
    "    psi_in = model(state.float())\n",
    "    arr= convolve(state[0:L],kern,mode = 'wrap')\n",
    "    for i in range(L):\n",
    "        if arr[i]==1:\n",
    "            if i != L-1:\n",
    "                hopping_state = state.clone() \n",
    "                hopping_state[i],hopping_state[i+1]= state[i+1],state[i]\n",
    "                sum+= (model(hopping_state.float())/psi_in)\n",
    "                #print('sum: ',sum)\n",
    "            elif i== L-1:\n",
    "                hopping_state = state.clone() \n",
    "                hopping_state[i],hopping_state[0]= state[0],state[i]\n",
    "                sum+= (model(hopping_state.float())/psi_in)\n",
    "                #print('sum: ',sum)\n",
    "    return -t*sum"
   ]
  },
  {
   "cell_type": "code",
   "execution_count": 18,
   "id": "1fb15bf3",
   "metadata": {},
   "outputs": [],
   "source": [
    "def get_kin_energy_down(state,t):\n",
    "    sum = 0\n",
    "    kern = torch.tensor([1,1])\n",
    "    psi_in = model(state.float())\n",
    "    arr = convolve(state[L:2*L],kern,mode = 'wrap')\n",
    "    for i in range(L):\n",
    "        if arr[i] ==1:\n",
    "            if i!= L-1:\n",
    "                hopping_state= state.clone()\n",
    "                hopping_state[i+L],hopping_state[i+L+1]= state[i+L+1],state[i+L]\n",
    "                ratio = model(hopping_state.float())/psi_in\n",
    "                sum+=ratio\n",
    "            elif i==L-1:\n",
    "                hopping_state = state.clone()\n",
    "                hopping_state[i+L],hopping_state[L]= state[L],state[i+L]\n",
    "                ratio= model(hopping_state.float())/psi_in\n",
    "                sum+=ratio\n",
    "    return -t*sum"
   ]
  },
  {
   "cell_type": "code",
   "execution_count": 19,
   "id": "9ca02d29",
   "metadata": {},
   "outputs": [
    {
     "data": {
      "text/plain": [
       "tensor([0., 1., 0., 1., 1., 0., 0., 1.])"
      ]
     },
     "execution_count": 19,
     "metadata": {},
     "output_type": "execute_result"
    }
   ],
   "source": [
    "state = torch.tensor([0.,1.,0.,1.,1.,0.,0.,1.])\n",
    "state"
   ]
  },
  {
   "cell_type": "code",
   "execution_count": 20,
   "id": "a1f850d3",
   "metadata": {},
   "outputs": [
    {
     "data": {
      "text/plain": [
       "tensor([-4.0330], grad_fn=<MulBackward0>)"
      ]
     },
     "execution_count": 20,
     "metadata": {},
     "output_type": "execute_result"
    }
   ],
   "source": [
    "get_kin_energy_up(state,t)"
   ]
  },
  {
   "cell_type": "code",
   "execution_count": 21,
   "id": "eb3f1449",
   "metadata": {
    "scrolled": true
   },
   "outputs": [
    {
     "data": {
      "text/plain": [
       "tensor([-2.0415], grad_fn=<MulBackward0>)"
      ]
     },
     "execution_count": 21,
     "metadata": {},
     "output_type": "execute_result"
    }
   ],
   "source": [
    "get_kin_energy_down(state,t)"
   ]
  },
  {
   "cell_type": "code",
   "execution_count": 22,
   "id": "dbaa7c5b",
   "metadata": {},
   "outputs": [],
   "source": [
    "def kinetic_energy(state,t):\n",
    "    return (get_kin_energy_up(state,t) + get_kin_energy_down(state,t))"
   ]
  },
  {
   "cell_type": "code",
   "execution_count": 23,
   "id": "5dde3817",
   "metadata": {},
   "outputs": [
    {
     "data": {
      "text/plain": [
       "tensor([-6.0745], grad_fn=<AddBackward0>)"
      ]
     },
     "execution_count": 23,
     "metadata": {},
     "output_type": "execute_result"
    }
   ],
   "source": [
    "kinetic_energy(state,t)"
   ]
  },
  {
   "cell_type": "code",
   "execution_count": 24,
   "id": "5908aed9",
   "metadata": {},
   "outputs": [],
   "source": [
    "def interaction_energy(state,U):\n",
    "    sum = 0\n",
    "    for i in range(L):\n",
    "        if state[i] ==1 and state[i+L]==1:\n",
    "            sum+=1\n",
    "    return U*sum"
   ]
  },
  {
   "cell_type": "code",
   "execution_count": 25,
   "id": "ba7741da",
   "metadata": {},
   "outputs": [],
   "source": [
    "def get_total_energy(state,t,U):\n",
    "    return (kinetic_energy(state,t) + interaction_energy(state,U))"
   ]
  },
  {
   "cell_type": "code",
   "execution_count": 26,
   "id": "b9b1c4bf",
   "metadata": {},
   "outputs": [
    {
     "data": {
      "text/plain": [
       "tensor([3.9255], grad_fn=<AddBackward0>)"
      ]
     },
     "execution_count": 26,
     "metadata": {},
     "output_type": "execute_result"
    }
   ],
   "source": [
    "get_total_energy(state,t,U)"
   ]
  },
  {
   "cell_type": "code",
   "execution_count": 27,
   "id": "68350729",
   "metadata": {},
   "outputs": [],
   "source": [
    "def run_mc_sim():\n",
    "    energy = 0\n",
    "    state = in_state(L)\n",
    "    mc_step = 1000\n",
    "    warm_step = 1000\n",
    "    for i in range(0,warm_step):\n",
    "        state = mc_state(state)\n",
    "        #print(state)\n",
    "        \n",
    "        \n",
    "    for i in range(0,mc_step):\n",
    "        state = mc_state(state)\n",
    "        en = get_total_energy(state,t,U)/L\n",
    "        energy+= en\n",
    "    return energy/mc_step"
   ]
  },
  {
   "cell_type": "code",
   "execution_count": 28,
   "id": "d0653f4f",
   "metadata": {},
   "outputs": [],
   "source": [
    "y= run_mc_sim()\n",
    "Ene= y.detach().numpy()[0]"
   ]
  },
  {
   "cell_type": "code",
   "execution_count": 29,
   "id": "c65e46bc",
   "metadata": {},
   "outputs": [
    {
     "data": {
      "text/plain": [
       "tensor([1.6878], grad_fn=<DivBackward0>)"
      ]
     },
     "execution_count": 29,
     "metadata": {},
     "output_type": "execute_result"
    }
   ],
   "source": [
    "y"
   ]
  },
  {
   "cell_type": "code",
   "execution_count": 29,
   "id": "2fb771fb",
   "metadata": {},
   "outputs": [
    {
     "data": {
      "text/plain": [
       "1.76148"
      ]
     },
     "execution_count": 29,
     "metadata": {},
     "output_type": "execute_result"
    }
   ],
   "source": [
    "run_mc_sim().detach().numpy()[0]"
   ]
  },
  {
   "cell_type": "markdown",
   "id": "cb74b3fb",
   "metadata": {},
   "source": [
    "# Genetic optimization of NN"
   ]
  },
  {
   "cell_type": "code",
   "execution_count": 30,
   "id": "f1478ec5",
   "metadata": {},
   "outputs": [],
   "source": [
    "import pygad.torchga as ga\n",
    "import pygad"
   ]
  },
  {
   "cell_type": "code",
   "execution_count": 31,
   "id": "b9d7167e",
   "metadata": {},
   "outputs": [],
   "source": [
    "torch_ga = ga.TorchGA(model = model,\n",
    "                     num_solutions=10)  # constructing TorchGa class\n"
   ]
  },
  {
   "cell_type": "code",
   "execution_count": 32,
   "id": "ad1b0f7f",
   "metadata": {},
   "outputs": [],
   "source": [
    "e_ref = -5.0"
   ]
  },
  {
   "cell_type": "code",
   "execution_count": 33,
   "id": "7cf9bfc6",
   "metadata": {},
   "outputs": [],
   "source": [
    "def fitness(solution,sol_idx):\n",
    "    global torch_ga,model\n",
    "    model_weights_dict = ga.model_weights_as_dict(model= model,\n",
    "                                                 weights_vector=solution)\n",
    "    \n",
    "    model.load_state_dict(model_weights_dict)\n",
    "    \n",
    "    #fitness = 1.0/(get_total_energy(state,t,U).detach().numpy()[0]  + 0.0001)\n",
    "    energy = run_mc_sim().detach().numpy()[0] - e_ref\n",
    "    fitness = 1.0/(energy)\n",
    "    return fitness"
   ]
  },
  {
   "cell_type": "code",
   "execution_count": 34,
   "id": "4ee79aa6",
   "metadata": {},
   "outputs": [],
   "source": [
    "def optimal_enenrgy(fitness_val):\n",
    "    return (1/fitness_val) + e_ref"
   ]
  },
  {
   "cell_type": "code",
   "execution_count": 35,
   "id": "421b68c7",
   "metadata": {},
   "outputs": [],
   "source": [
    "def callback_generation(ga_instance):\n",
    "    print(\"Generation = {generation}\".format(generation=ga_instance.generations_completed))\n",
    "    fitness=ga_instance.best_solution()[1]\n",
    "    print(\"Fitness    = {}\".format(fitness))\n",
    "    print(\"Energy = {}\".format(optimal_enenrgy(fitness)))"
   ]
  },
  {
   "cell_type": "code",
   "execution_count": 36,
   "id": "2a0399d8",
   "metadata": {},
   "outputs": [],
   "source": [
    "num_generations = 200\n",
    "num_parents_mating = 5\n",
    "initial_population = torch_ga.population_weights\n",
    "\n",
    "ga_instance = pygad.GA(num_generations=num_generations,\n",
    "                       num_parents_mating=num_parents_mating,\n",
    "                       initial_population=initial_population,\n",
    "                       fitness_func=fitness,\n",
    "                       on_generation=callback_generation)"
   ]
  },
  {
   "cell_type": "code",
   "execution_count": 37,
   "id": "36541232",
   "metadata": {
    "scrolled": true
   },
   "outputs": [
    {
     "name": "stdout",
     "output_type": "stream",
     "text": [
      "Generation = 1\n",
      "Fitness    = 0.1520630191359832\n",
      "Energy = 1.5762208700180054\n",
      "Generation = 2\n",
      "Fitness    = 0.15749673886346138\n",
      "Energy = 1.3493378162384033\n",
      "Generation = 3\n",
      "Fitness    = 0.1552148014007916\n",
      "Energy = 1.442684531211853\n",
      "Generation = 4\n",
      "Fitness    = 0.1609498499502776\n",
      "Energy = 1.2131154537200928\n",
      "Generation = 5\n",
      "Fitness    = 0.16663175228318416\n",
      "Energy = 1.0012571811676025\n",
      "Generation = 6\n",
      "Fitness    = 0.17060349214354442\n",
      "Energy = 0.8615447282791138\n",
      "Generation = 7\n",
      "Fitness    = 0.18102301774551935\n",
      "Energy = 0.5241593718528748\n",
      "Generation = 8\n",
      "Fitness    = 0.18076126891721192\n",
      "Energy = 0.5321585536003113\n",
      "Generation = 9\n",
      "Fitness    = 0.18076126891721192\n",
      "Energy = 0.5321585536003113\n",
      "Generation = 10\n",
      "Fitness    = 0.1868382536270524\n",
      "Energy = 0.3522230088710785\n",
      "Generation = 11\n",
      "Fitness    = 0.18561836123766742\n",
      "Energy = 0.3873980641365051\n",
      "Generation = 12\n",
      "Fitness    = 0.18561836123766742\n",
      "Energy = 0.3873980641365051\n",
      "Generation = 13\n",
      "Fitness    = 0.18561836123766742\n",
      "Energy = 0.3873980641365051\n",
      "Generation = 14\n",
      "Fitness    = 0.1864227255721634\n",
      "Energy = 0.3641528785228729\n",
      "Generation = 15\n",
      "Fitness    = 0.19911786540471335\n",
      "Energy = 0.02215106599032879\n",
      "Generation = 16\n",
      "Fitness    = 0.20077119380297778\n",
      "Energy = -0.019205788150429726\n",
      "Generation = 17\n",
      "Fitness    = 0.20081308315074234\n",
      "Energy = -0.020244775339961052\n",
      "Generation = 18\n",
      "Fitness    = 0.20081308315074234\n",
      "Energy = -0.020244775339961052\n",
      "Generation = 19\n",
      "Fitness    = 0.20093044414191816\n",
      "Energy = -0.023153388872742653\n",
      "Generation = 20\n",
      "Fitness    = 0.2016278302288246\n",
      "Energy = -0.04036720097064972\n",
      "Generation = 21\n",
      "Fitness    = 0.20276353765245309\n",
      "Energy = -0.06814680993556976\n",
      "Generation = 22\n",
      "Fitness    = 0.20179543028512378\n",
      "Energy = -0.0444863960146904\n",
      "Generation = 23\n",
      "Fitness    = 0.20345738676612718\n",
      "Energy = -0.08496586978435516\n",
      "Generation = 24\n",
      "Fitness    = 0.20345738676612718\n",
      "Energy = -0.08496586978435516\n",
      "Generation = 25\n",
      "Fitness    = 0.20345738676612718\n",
      "Energy = -0.08496586978435516\n",
      "Generation = 26\n",
      "Fitness    = 0.20345738676612718\n",
      "Energy = -0.08496586978435516\n",
      "Generation = 27\n",
      "Fitness    = 0.20345738676612718\n",
      "Energy = -0.08496586978435516\n",
      "Generation = 28\n",
      "Fitness    = 0.20345738676612718\n",
      "Energy = -0.08496586978435516\n",
      "Generation = 29\n",
      "Fitness    = 0.20345738676612718\n",
      "Energy = -0.08496586978435516\n",
      "Generation = 30\n",
      "Fitness    = 0.20345738676612718\n",
      "Energy = -0.08496586978435516\n",
      "Generation = 31\n",
      "Fitness    = 0.20345738676612718\n",
      "Energy = -0.08496586978435516\n",
      "Generation = 32\n",
      "Fitness    = 0.20345738676612718\n",
      "Energy = -0.08496586978435516\n",
      "Generation = 33\n",
      "Fitness    = 0.20345738676612718\n",
      "Energy = -0.08496586978435516\n",
      "Generation = 34\n",
      "Fitness    = 0.20345738676612718\n",
      "Energy = -0.08496586978435516\n",
      "Generation = 35\n",
      "Fitness    = 0.20345738676612718\n",
      "Energy = -0.08496586978435516\n",
      "Generation = 36\n",
      "Fitness    = 0.20417893942135443\n",
      "Energy = -0.10233522206544876\n",
      "Generation = 37\n",
      "Fitness    = 0.20417893942135443\n",
      "Energy = -0.10233522206544876\n",
      "Generation = 38\n",
      "Fitness    = 0.20695183615751303\n",
      "Energy = -0.1679578274488449\n",
      "Generation = 39\n",
      "Fitness    = 0.20695183615751303\n",
      "Energy = -0.1679578274488449\n",
      "Generation = 40\n",
      "Fitness    = 0.20695183615751303\n",
      "Energy = -0.1679578274488449\n",
      "Generation = 41\n",
      "Fitness    = 0.20695183615751303\n",
      "Energy = -0.1679578274488449\n",
      "Generation = 42\n",
      "Fitness    = 0.20695183615751303\n",
      "Energy = -0.1679578274488449\n",
      "Generation = 43\n",
      "Fitness    = 0.20695183615751303\n",
      "Energy = -0.1679578274488449\n",
      "Generation = 44\n",
      "Fitness    = 0.20695183615751303\n",
      "Energy = -0.1679578274488449\n",
      "Generation = 45\n",
      "Fitness    = 0.20695183615751303\n",
      "Energy = -0.1679578274488449\n",
      "Generation = 46\n",
      "Fitness    = 0.20695183615751303\n",
      "Energy = -0.1679578274488449\n",
      "Generation = 47\n",
      "Fitness    = 0.20695183615751303\n",
      "Energy = -0.1679578274488449\n",
      "Generation = 48\n",
      "Fitness    = 0.20695183615751303\n",
      "Energy = -0.1679578274488449\n",
      "Generation = 49\n",
      "Fitness    = 0.20695183615751303\n",
      "Energy = -0.1679578274488449\n",
      "Generation = 50\n",
      "Fitness    = 0.20695183615751303\n",
      "Energy = -0.1679578274488449\n",
      "Generation = 51\n",
      "Fitness    = 0.20695183615751303\n",
      "Energy = -0.1679578274488449\n",
      "Generation = 52\n",
      "Fitness    = 0.20695183615751303\n",
      "Energy = -0.1679578274488449\n",
      "Generation = 53\n",
      "Fitness    = 0.20695183615751303\n",
      "Energy = -0.1679578274488449\n",
      "Generation = 54\n",
      "Fitness    = 0.20695183615751303\n",
      "Energy = -0.1679578274488449\n",
      "Generation = 55\n",
      "Fitness    = 0.20695183615751303\n",
      "Energy = -0.1679578274488449\n",
      "Generation = 56\n",
      "Fitness    = 0.20695183615751303\n",
      "Energy = -0.1679578274488449\n",
      "Generation = 57\n",
      "Fitness    = 0.20695183615751303\n",
      "Energy = -0.1679578274488449\n",
      "Generation = 58\n",
      "Fitness    = 0.20695183615751303\n",
      "Energy = -0.1679578274488449\n",
      "Generation = 59\n",
      "Fitness    = 0.20695183615751303\n",
      "Energy = -0.1679578274488449\n",
      "Generation = 60\n",
      "Fitness    = 0.20695183615751303\n",
      "Energy = -0.1679578274488449\n",
      "Generation = 61\n",
      "Fitness    = 0.20695183615751303\n",
      "Energy = -0.1679578274488449\n",
      "Generation = 62\n",
      "Fitness    = 0.20695183615751303\n",
      "Energy = -0.1679578274488449\n",
      "Generation = 63\n",
      "Fitness    = 0.20695183615751303\n",
      "Energy = -0.1679578274488449\n",
      "Generation = 64\n",
      "Fitness    = 0.20695183615751303\n",
      "Energy = -0.1679578274488449\n",
      "Generation = 65\n",
      "Fitness    = 0.20695183615751303\n",
      "Energy = -0.1679578274488449\n",
      "Generation = 66\n",
      "Fitness    = 0.20695183615751303\n",
      "Energy = -0.1679578274488449\n",
      "Generation = 67\n",
      "Fitness    = 0.20695183615751303\n",
      "Energy = -0.1679578274488449\n",
      "Generation = 68\n",
      "Fitness    = 0.20695183615751303\n",
      "Energy = -0.1679578274488449\n",
      "Generation = 69\n",
      "Fitness    = 0.20695183615751303\n",
      "Energy = -0.1679578274488449\n",
      "Generation = 70\n",
      "Fitness    = 0.20695183615751303\n",
      "Energy = -0.1679578274488449\n",
      "Generation = 71\n",
      "Fitness    = 0.20695183615751303\n",
      "Energy = -0.1679578274488449\n",
      "Generation = 72\n",
      "Fitness    = 0.20695183615751303\n",
      "Energy = -0.1679578274488449\n",
      "Generation = 73\n",
      "Fitness    = 0.20695183615751303\n",
      "Energy = -0.1679578274488449\n",
      "Generation = 74\n",
      "Fitness    = 0.20695183615751303\n",
      "Energy = -0.1679578274488449\n",
      "Generation = 75\n",
      "Fitness    = 0.20695183615751303\n",
      "Energy = -0.1679578274488449\n",
      "Generation = 76\n",
      "Fitness    = 0.20695183615751303\n",
      "Energy = -0.1679578274488449\n",
      "Generation = 77\n",
      "Fitness    = 0.20695183615751303\n",
      "Energy = -0.1679578274488449\n",
      "Generation = 78\n",
      "Fitness    = 0.20695183615751303\n",
      "Energy = -0.1679578274488449\n",
      "Generation = 79\n",
      "Fitness    = 0.20695183615751303\n",
      "Energy = -0.1679578274488449\n",
      "Generation = 80\n",
      "Fitness    = 0.20695183615751303\n",
      "Energy = -0.1679578274488449\n",
      "Generation = 81\n",
      "Fitness    = 0.20695183615751303\n",
      "Energy = -0.1679578274488449\n",
      "Generation = 82\n",
      "Fitness    = 0.21234313877835162\n",
      "Energy = -0.29064133763313293\n",
      "Generation = 83\n",
      "Fitness    = 0.20695183615751303\n",
      "Energy = -0.1679578274488449\n",
      "Generation = 84\n",
      "Fitness    = 0.20695183615751303\n",
      "Energy = -0.1679578274488449\n",
      "Generation = 85\n",
      "Fitness    = 0.20695183615751303\n",
      "Energy = -0.1679578274488449\n",
      "Generation = 86\n",
      "Fitness    = 0.20695183615751303\n",
      "Energy = -0.1679578274488449\n",
      "Generation = 87\n",
      "Fitness    = 0.20695183615751303\n",
      "Energy = -0.1679578274488449\n",
      "Generation = 88\n",
      "Fitness    = 0.20695183615751303\n",
      "Energy = -0.1679578274488449\n",
      "Generation = 89\n",
      "Fitness    = 0.20695183615751303\n",
      "Energy = -0.1679578274488449\n",
      "Generation = 90\n",
      "Fitness    = 0.20695183615751303\n",
      "Energy = -0.1679578274488449\n",
      "Generation = 91\n",
      "Fitness    = 0.20695183615751303\n",
      "Energy = -0.1679578274488449\n",
      "Generation = 92\n",
      "Fitness    = 0.20695183615751303\n",
      "Energy = -0.1679578274488449\n",
      "Generation = 93\n",
      "Fitness    = 0.20695183615751303\n",
      "Energy = -0.1679578274488449\n",
      "Generation = 94\n",
      "Fitness    = 0.20695183615751303\n",
      "Energy = -0.1679578274488449\n",
      "Generation = 95\n",
      "Fitness    = 0.20695183615751303\n",
      "Energy = -0.1679578274488449\n",
      "Generation = 96\n",
      "Fitness    = 0.20695183615751303\n",
      "Energy = -0.1679578274488449\n",
      "Generation = 97\n",
      "Fitness    = 0.20695183615751303\n",
      "Energy = -0.1679578274488449\n",
      "Generation = 98\n",
      "Fitness    = 0.20695183615751303\n",
      "Energy = -0.1679578274488449\n",
      "Generation = 99\n",
      "Fitness    = 0.20695183615751303\n",
      "Energy = -0.1679578274488449\n",
      "Generation = 100\n",
      "Fitness    = 0.20695183615751303\n",
      "Energy = -0.1679578274488449\n",
      "Generation = 101\n",
      "Fitness    = 0.20695183615751303\n",
      "Energy = -0.1679578274488449\n",
      "Generation = 102\n",
      "Fitness    = 0.20695183615751303\n",
      "Energy = -0.1679578274488449\n",
      "Generation = 103\n",
      "Fitness    = 0.20695183615751303\n",
      "Energy = -0.1679578274488449\n",
      "Generation = 104\n",
      "Fitness    = 0.20695183615751303\n",
      "Energy = -0.1679578274488449\n",
      "Generation = 105\n",
      "Fitness    = 0.20695183615751303\n",
      "Energy = -0.1679578274488449\n",
      "Generation = 106\n"
     ]
    },
    {
     "name": "stdout",
     "output_type": "stream",
     "text": [
      "Fitness    = 0.20695183615751303\n",
      "Energy = -0.1679578274488449\n",
      "Generation = 107\n",
      "Fitness    = 0.20695183615751303\n",
      "Energy = -0.1679578274488449\n",
      "Generation = 108\n",
      "Fitness    = 0.20695183615751303\n",
      "Energy = -0.1679578274488449\n",
      "Generation = 109\n",
      "Fitness    = 0.20695183615751303\n",
      "Energy = -0.1679578274488449\n",
      "Generation = 110\n",
      "Fitness    = 0.20695183615751303\n",
      "Energy = -0.1679578274488449\n",
      "Generation = 111\n",
      "Fitness    = 0.20695183615751303\n",
      "Energy = -0.1679578274488449\n",
      "Generation = 112\n",
      "Fitness    = 0.20695183615751303\n",
      "Energy = -0.1679578274488449\n",
      "Generation = 113\n",
      "Fitness    = 0.20695183615751303\n",
      "Energy = -0.1679578274488449\n",
      "Generation = 114\n",
      "Fitness    = 0.20695183615751303\n",
      "Energy = -0.1679578274488449\n",
      "Generation = 115\n",
      "Fitness    = 0.20695183615751303\n",
      "Energy = -0.1679578274488449\n",
      "Generation = 116\n",
      "Fitness    = 0.20695183615751303\n",
      "Energy = -0.1679578274488449\n",
      "Generation = 117\n",
      "Fitness    = 0.20695183615751303\n",
      "Energy = -0.1679578274488449\n",
      "Generation = 118\n",
      "Fitness    = 0.20695183615751303\n",
      "Energy = -0.1679578274488449\n",
      "Generation = 119\n",
      "Fitness    = 0.20695183615751303\n",
      "Energy = -0.1679578274488449\n",
      "Generation = 120\n",
      "Fitness    = 0.20695183615751303\n",
      "Energy = -0.1679578274488449\n",
      "Generation = 121\n",
      "Fitness    = 0.20695183615751303\n",
      "Energy = -0.1679578274488449\n",
      "Generation = 122\n",
      "Fitness    = 0.20695183615751303\n",
      "Energy = -0.1679578274488449\n",
      "Generation = 123\n",
      "Fitness    = 0.20695183615751303\n",
      "Energy = -0.1679578274488449\n",
      "Generation = 124\n",
      "Fitness    = 0.20695183615751303\n",
      "Energy = -0.1679578274488449\n",
      "Generation = 125\n",
      "Fitness    = 0.20695183615751303\n",
      "Energy = -0.1679578274488449\n",
      "Generation = 126\n",
      "Fitness    = 0.20695183615751303\n",
      "Energy = -0.1679578274488449\n",
      "Generation = 127\n",
      "Fitness    = 0.20695183615751303\n",
      "Energy = -0.1679578274488449\n",
      "Generation = 128\n",
      "Fitness    = 0.20695183615751303\n",
      "Energy = -0.1679578274488449\n",
      "Generation = 129\n",
      "Fitness    = 0.20695183615751303\n",
      "Energy = -0.1679578274488449\n",
      "Generation = 130\n",
      "Fitness    = 0.20695183615751303\n",
      "Energy = -0.1679578274488449\n",
      "Generation = 131\n",
      "Fitness    = 0.20695183615751303\n",
      "Energy = -0.1679578274488449\n",
      "Generation = 132\n",
      "Fitness    = 0.20695183615751303\n",
      "Energy = -0.1679578274488449\n",
      "Generation = 133\n",
      "Fitness    = 0.20695183615751303\n",
      "Energy = -0.1679578274488449\n",
      "Generation = 134\n",
      "Fitness    = 0.20695183615751303\n",
      "Energy = -0.1679578274488449\n",
      "Generation = 135\n",
      "Fitness    = 0.20695183615751303\n",
      "Energy = -0.1679578274488449\n",
      "Generation = 136\n",
      "Fitness    = 0.20695183615751303\n",
      "Energy = -0.1679578274488449\n",
      "Generation = 137\n",
      "Fitness    = 0.20695183615751303\n",
      "Energy = -0.1679578274488449\n",
      "Generation = 138\n",
      "Fitness    = 0.20695183615751303\n",
      "Energy = -0.1679578274488449\n",
      "Generation = 139\n",
      "Fitness    = 0.20695183615751303\n",
      "Energy = -0.1679578274488449\n",
      "Generation = 140\n",
      "Fitness    = 0.20695183615751303\n",
      "Energy = -0.1679578274488449\n",
      "Generation = 141\n",
      "Fitness    = 0.20695183615751303\n",
      "Energy = -0.1679578274488449\n",
      "Generation = 142\n",
      "Fitness    = 0.20695183615751303\n",
      "Energy = -0.1679578274488449\n",
      "Generation = 143\n",
      "Fitness    = 0.20695183615751303\n",
      "Energy = -0.1679578274488449\n",
      "Generation = 144\n",
      "Fitness    = 0.20695183615751303\n",
      "Energy = -0.1679578274488449\n",
      "Generation = 145\n",
      "Fitness    = 0.20695183615751303\n",
      "Energy = -0.1679578274488449\n",
      "Generation = 146\n",
      "Fitness    = 0.20695183615751303\n",
      "Energy = -0.1679578274488449\n",
      "Generation = 147\n",
      "Fitness    = 0.20695183615751303\n",
      "Energy = -0.1679578274488449\n",
      "Generation = 148\n",
      "Fitness    = 0.20695183615751303\n",
      "Energy = -0.1679578274488449\n",
      "Generation = 149\n",
      "Fitness    = 0.20695183615751303\n",
      "Energy = -0.1679578274488449\n",
      "Generation = 150\n",
      "Fitness    = 0.20695183615751303\n",
      "Energy = -0.1679578274488449\n",
      "Generation = 151\n",
      "Fitness    = 0.20695183615751303\n",
      "Energy = -0.1679578274488449\n",
      "Generation = 152\n",
      "Fitness    = 0.20695183615751303\n",
      "Energy = -0.1679578274488449\n",
      "Generation = 153\n",
      "Fitness    = 0.20695183615751303\n",
      "Energy = -0.1679578274488449\n",
      "Generation = 154\n",
      "Fitness    = 0.20695183615751303\n",
      "Energy = -0.1679578274488449\n",
      "Generation = 155\n",
      "Fitness    = 0.20695183615751303\n",
      "Energy = -0.1679578274488449\n",
      "Generation = 156\n",
      "Fitness    = 0.20695183615751303\n",
      "Energy = -0.1679578274488449\n",
      "Generation = 157\n",
      "Fitness    = 0.20695183615751303\n",
      "Energy = -0.1679578274488449\n",
      "Generation = 158\n",
      "Fitness    = 0.20695183615751303\n",
      "Energy = -0.1679578274488449\n",
      "Generation = 159\n",
      "Fitness    = 0.20695183615751303\n",
      "Energy = -0.1679578274488449\n",
      "Generation = 160\n",
      "Fitness    = 0.20695183615751303\n",
      "Energy = -0.1679578274488449\n",
      "Generation = 161\n",
      "Fitness    = 0.20695183615751303\n",
      "Energy = -0.1679578274488449\n",
      "Generation = 162\n",
      "Fitness    = 0.20695183615751303\n",
      "Energy = -0.1679578274488449\n",
      "Generation = 163\n",
      "Fitness    = 0.20695183615751303\n",
      "Energy = -0.1679578274488449\n",
      "Generation = 164\n",
      "Fitness    = 0.20695183615751303\n",
      "Energy = -0.1679578274488449\n",
      "Generation = 165\n",
      "Fitness    = 0.20695183615751303\n",
      "Energy = -0.1679578274488449\n",
      "Generation = 166\n",
      "Fitness    = 0.20695183615751303\n",
      "Energy = -0.1679578274488449\n",
      "Generation = 167\n",
      "Fitness    = 0.20695183615751303\n",
      "Energy = -0.1679578274488449\n",
      "Generation = 168\n",
      "Fitness    = 0.20695183615751303\n",
      "Energy = -0.1679578274488449\n",
      "Generation = 169\n",
      "Fitness    = 0.20695183615751303\n",
      "Energy = -0.1679578274488449\n",
      "Generation = 170\n",
      "Fitness    = 0.20695183615751303\n",
      "Energy = -0.1679578274488449\n",
      "Generation = 171\n",
      "Fitness    = 0.20695183615751303\n",
      "Energy = -0.1679578274488449\n",
      "Generation = 172\n",
      "Fitness    = 0.20695183615751303\n",
      "Energy = -0.1679578274488449\n",
      "Generation = 173\n",
      "Fitness    = 0.20695183615751303\n",
      "Energy = -0.1679578274488449\n",
      "Generation = 174\n",
      "Fitness    = 0.20695183615751303\n",
      "Energy = -0.1679578274488449\n",
      "Generation = 175\n",
      "Fitness    = 0.20695183615751303\n",
      "Energy = -0.1679578274488449\n",
      "Generation = 176\n",
      "Fitness    = 0.20695183615751303\n",
      "Energy = -0.1679578274488449\n",
      "Generation = 177\n",
      "Fitness    = 0.20695183615751303\n",
      "Energy = -0.1679578274488449\n",
      "Generation = 178\n",
      "Fitness    = 0.20695183615751303\n",
      "Energy = -0.1679578274488449\n",
      "Generation = 179\n",
      "Fitness    = 0.20695183615751303\n",
      "Energy = -0.1679578274488449\n",
      "Generation = 180\n",
      "Fitness    = 0.20695183615751303\n",
      "Energy = -0.1679578274488449\n",
      "Generation = 181\n",
      "Fitness    = 0.20695183615751303\n",
      "Energy = -0.1679578274488449\n",
      "Generation = 182\n",
      "Fitness    = 0.20695183615751303\n",
      "Energy = -0.1679578274488449\n",
      "Generation = 183\n",
      "Fitness    = 0.20695183615751303\n",
      "Energy = -0.1679578274488449\n",
      "Generation = 184\n",
      "Fitness    = 0.20695183615751303\n",
      "Energy = -0.1679578274488449\n",
      "Generation = 185\n",
      "Fitness    = 0.20695183615751303\n",
      "Energy = -0.1679578274488449\n",
      "Generation = 186\n",
      "Fitness    = 0.20695183615751303\n",
      "Energy = -0.1679578274488449\n",
      "Generation = 187\n",
      "Fitness    = 0.20695183615751303\n",
      "Energy = -0.1679578274488449\n",
      "Generation = 188\n",
      "Fitness    = 0.20695183615751303\n",
      "Energy = -0.1679578274488449\n",
      "Generation = 189\n",
      "Fitness    = 0.20695183615751303\n",
      "Energy = -0.1679578274488449\n",
      "Generation = 190\n",
      "Fitness    = 0.20695183615751303\n",
      "Energy = -0.1679578274488449\n",
      "Generation = 191\n",
      "Fitness    = 0.20695183615751303\n",
      "Energy = -0.1679578274488449\n",
      "Generation = 192\n",
      "Fitness    = 0.20695183615751303\n",
      "Energy = -0.1679578274488449\n",
      "Generation = 193\n",
      "Fitness    = 0.20695183615751303\n",
      "Energy = -0.1679578274488449\n",
      "Generation = 194\n",
      "Fitness    = 0.20695183615751303\n",
      "Energy = -0.1679578274488449\n",
      "Generation = 195\n",
      "Fitness    = 0.20980839951366898\n",
      "Energy = -0.23374658823013306\n",
      "Generation = 196\n",
      "Fitness    = 0.20695183615751303\n",
      "Energy = -0.1679578274488449\n",
      "Generation = 197\n",
      "Fitness    = 0.20695183615751303\n",
      "Energy = -0.1679578274488449\n",
      "Generation = 198\n",
      "Fitness    = 0.2161833393058844\n",
      "Energy = -0.374296635389328\n",
      "Generation = 199\n",
      "Fitness    = 0.2161833393058844\n",
      "Energy = -0.374296635389328\n",
      "Generation = 200\n",
      "Fitness    = 0.2161833393058844\n",
      "Energy = -0.374296635389328\n"
     ]
    }
   ],
   "source": [
    "ga_instance.run()"
   ]
  },
  {
   "cell_type": "code",
   "execution_count": 38,
   "id": "0cd37ff6",
   "metadata": {},
   "outputs": [
    {
     "name": "stderr",
     "output_type": "stream",
     "text": [
      "/home/ashuworld/pythonenv/lib/python3.9/site-packages/pygad/pygad.py:3591: UserWarning: Please use the plot_fitness() method instead of plot_result(). The plot_result() method will be removed in the future.\n",
      "  warnings.warn(\"Please use the plot_fitness() method instead of plot_result(). The plot_result() method will be removed in the future.\")\n"
     ]
    },
    {
     "data": {
      "image/png": "[encoded data removed]",
      "text/plain": [
       "<Figure size 640x480 with 1 Axes>"
      ]
     },
     "metadata": {},
     "output_type": "display_data"
    },
    {
     "data": {
      "image/png": "[encoded data removed]",
      "text/plain": [
       "<Figure size 640x480 with 1 Axes>"
      ]
     },
     "execution_count": 38,
     "metadata": {},
     "output_type": "execute_result"
    }
   ],
   "source": [
    "ga_instance.plot_result(title=\"PyGAD & PyTorch - Iteration vs. Fitness\")"
   ]
  },
  {
   "cell_type": "code",
   "execution_count": 39,
   "id": "5b3c2427",
   "metadata": {},
   "outputs": [
    {
     "name": "stdout",
     "output_type": "stream",
     "text": [
      "Fitness value of the best solution = 0.2161833393058844\n"
     ]
    }
   ],
   "source": [
    "solution, solution_fitness, solution_idx = ga_instance.best_solution()\n",
    "print(\"Fitness value of the best solution = {solution_fitness}\".format(solution_fitness=solution_fitness))\n",
    "#print(\"Index of the best solution : {solution_idx}\".format(solution_idx=solution_idx))"
   ]
  },
  {
   "cell_type": "code",
   "execution_count": 40,
   "id": "e29e11e9",
   "metadata": {},
   "outputs": [
    {
     "name": "stdout",
     "output_type": "stream",
     "text": [
      "Sun Apr 23 00:15:02 IST 2023\r\n"
     ]
    }
   ],
   "source": [
    "!date"
   ]
  },
  {
   "cell_type": "markdown",
   "id": "6f310695",
   "metadata": {},
   "source": [
    "run start 22-04-2023 15:31 PM\n",
    "\n"
   ]
  },
  {
   "cell_type": "markdown",
   "id": "bb014357",
   "metadata": {},
   "source": [
    "Total time 8hrs 45 min"
   ]
  },
  {
   "cell_type": "code",
   "execution_count": 41,
   "id": "8a89c1ee",
   "metadata": {},
   "outputs": [
    {
     "data": {
      "text/plain": [
       "-0.374296635389328"
      ]
     },
     "execution_count": 41,
     "metadata": {},
     "output_type": "execute_result"
    }
   ],
   "source": [
    "optimal_enenrgy(solution_fitness)"
   ]
  },
  {
   "cell_type": "code",
   "execution_count": 42,
   "id": "f3582ccb",
   "metadata": {},
   "outputs": [],
   "source": [
    "# Fetch the parameters of the best solution.\n",
    "best_solution_weights = ga.model_weights_as_dict(model=model,\n",
    "                                                      weights_vector=solution)\n",
    "\n"
   ]
  },
  {
   "cell_type": "code",
   "execution_count": 43,
   "id": "c1aa6a76",
   "metadata": {},
   "outputs": [
    {
     "data": {
      "text/plain": [
       "OrderedDict([('l1.weight',\n",
       "              tensor([[-0.9874, -0.7215,  1.5177,  0.6876,  0.4167,  0.9385, -0.1765,  0.9685],\n",
       "                      [-0.9376, -0.2930,  0.9673,  1.8498,  1.1658, -0.7172, -1.3329,  1.5315],\n",
       "                      [ 0.3316, -0.8534, -1.0643, -0.0218,  1.1282,  0.4308,  0.7890, -0.0152],\n",
       "                      [ 0.2403,  0.1677,  0.1478,  0.1058, -1.1210,  0.9197, -1.6414,  2.1360],\n",
       "                      [-0.9303, -1.1390,  0.7712, -0.3013, -2.7851, -0.3284,  0.1731, -0.0343],\n",
       "                      [ 1.2011,  0.2374,  3.4304, -1.1023,  0.8374,  0.2146, -0.4372, -0.1886],\n",
       "                      [ 0.3223,  0.8931,  0.0834,  0.7720,  1.6855,  2.5701,  0.0098, -1.2107],\n",
       "                      [-0.6321,  0.1897,  0.6641, -0.2161, -0.8100, -1.4575, -0.1670, -0.0540]],\n",
       "                     dtype=torch.float64)),\n",
       "             ('l1.bias',\n",
       "              tensor([ 1.3656,  0.5138, -1.1232,  1.9175, -0.2889,  0.7408,  0.5015, -1.1569],\n",
       "                     dtype=torch.float64)),\n",
       "             ('l2.weight',\n",
       "              tensor([[-1.1822, -2.2283,  0.7620,  0.2707, -0.2549, -1.0496, -1.2012, -0.4163]],\n",
       "                     dtype=torch.float64)),\n",
       "             ('l2.bias', tensor([-1.8869], dtype=torch.float64))])"
      ]
     },
     "execution_count": 43,
     "metadata": {},
     "output_type": "execute_result"
    }
   ],
   "source": [
    "best_solution_weights"
   ]
  },
  {
   "cell_type": "code",
   "execution_count": 1,
   "id": "270b1952",
   "metadata": {},
   "outputs": [
    {
     "ename": "NameError",
     "evalue": "name 'pygad' is not defined",
     "output_type": "error",
     "traceback": [
      "\u001b[0;31m---------------------------------------------------------------------------\u001b[0m",
      "\u001b[0;31mNameError\u001b[0m                                 Traceback (most recent call last)",
      "Cell \u001b[0;32mIn[1], line 1\u001b[0m\n\u001b[0;32m----> 1\u001b[0m \u001b[43mpygad\u001b[49m\u001b[38;5;241m.\u001b[39m__version__\n",
      "\u001b[0;31mNameError\u001b[0m: name 'pygad' is not defined"
     ]
    }
   ],
   "source": [
    "pygad.__version__"
   ]
  },
  {
   "cell_type": "markdown",
   "id": "4a10b413",
   "metadata": {},
   "source": [
    "# Gradient Based Optimization"
   ]
  },
  {
   "cell_type": "code",
   "execution_count": 30,
   "id": "d09f30ee",
   "metadata": {},
   "outputs": [],
   "source": [
    "from torch.functional import F"
   ]
  },
  {
   "cell_type": "code",
   "execution_count": 31,
   "id": "04686eca",
   "metadata": {},
   "outputs": [],
   "source": [
    "optimizer = torch.optim.Adam(model.parameters(), lr=0.001)"
   ]
  },
  {
   "cell_type": "code",
   "execution_count": null,
   "id": "861075ca",
   "metadata": {},
   "outputs": [
    {
     "name": "stdout",
     "output_type": "stream",
     "text": [
      "tensor(3.6729, grad_fn=<SqrtBackward0>)\n",
      "tensor(3.7024, grad_fn=<SqrtBackward0>)\n",
      "tensor(3.7104, grad_fn=<SqrtBackward0>)\n",
      "tensor(3.6849, grad_fn=<SqrtBackward0>)\n",
      "tensor(3.6499, grad_fn=<SqrtBackward0>)\n",
      "tensor(3.7965, grad_fn=<SqrtBackward0>)\n",
      "tensor(3.6454, grad_fn=<SqrtBackward0>)\n",
      "tensor(3.7261, grad_fn=<SqrtBackward0>)\n",
      "tensor(3.6461, grad_fn=<SqrtBackward0>)\n",
      "tensor(3.7939, grad_fn=<SqrtBackward0>)\n",
      "tensor(3.6182, grad_fn=<SqrtBackward0>)\n",
      "tensor(3.6925, grad_fn=<SqrtBackward0>)\n",
      "tensor(3.7000, grad_fn=<SqrtBackward0>)\n",
      "tensor(3.5608, grad_fn=<SqrtBackward0>)\n",
      "tensor(3.7386, grad_fn=<SqrtBackward0>)\n",
      "tensor(3.7404, grad_fn=<SqrtBackward0>)\n",
      "tensor(3.6617, grad_fn=<SqrtBackward0>)\n",
      "tensor(3.7698, grad_fn=<SqrtBackward0>)\n",
      "tensor(3.6360, grad_fn=<SqrtBackward0>)\n",
      "tensor(3.7848, grad_fn=<SqrtBackward0>)\n",
      "tensor(3.6220, grad_fn=<SqrtBackward0>)\n",
      "tensor(3.7371, grad_fn=<SqrtBackward0>)\n",
      "tensor(3.7786, grad_fn=<SqrtBackward0>)\n",
      "tensor(3.8187, grad_fn=<SqrtBackward0>)\n",
      "tensor(3.6881, grad_fn=<SqrtBackward0>)\n",
      "tensor(3.7543, grad_fn=<SqrtBackward0>)\n",
      "tensor(3.7390, grad_fn=<SqrtBackward0>)\n",
      "tensor(3.7477, grad_fn=<SqrtBackward0>)\n",
      "tensor(3.7984, grad_fn=<SqrtBackward0>)\n",
      "tensor(3.7155, grad_fn=<SqrtBackward0>)\n",
      "tensor(3.7285, grad_fn=<SqrtBackward0>)\n",
      "tensor(3.6489, grad_fn=<SqrtBackward0>)\n",
      "tensor(3.6763, grad_fn=<SqrtBackward0>)\n",
      "tensor(3.7095, grad_fn=<SqrtBackward0>)\n",
      "tensor(3.6958, grad_fn=<SqrtBackward0>)\n",
      "tensor(3.6895, grad_fn=<SqrtBackward0>)\n",
      "tensor(3.7257, grad_fn=<SqrtBackward0>)\n",
      "tensor(3.7516, grad_fn=<SqrtBackward0>)\n",
      "tensor(3.7354, grad_fn=<SqrtBackward0>)\n",
      "tensor(3.7124, grad_fn=<SqrtBackward0>)\n",
      "tensor(3.7266, grad_fn=<SqrtBackward0>)\n",
      "tensor(3.6881, grad_fn=<SqrtBackward0>)\n",
      "tensor(3.7019, grad_fn=<SqrtBackward0>)\n",
      "tensor(3.6864, grad_fn=<SqrtBackward0>)\n",
      "tensor(3.6653, grad_fn=<SqrtBackward0>)\n",
      "tensor(3.7783, grad_fn=<SqrtBackward0>)\n",
      "tensor(3.7072, grad_fn=<SqrtBackward0>)\n",
      "tensor(3.7393, grad_fn=<SqrtBackward0>)\n",
      "tensor(3.6448, grad_fn=<SqrtBackward0>)\n"
     ]
    }
   ],
   "source": [
    "loss_lst = []\n",
    "y= torch.tensor([-2.0])\n",
    "for i in range(100):\n",
    "    #pred = model(state.float())#.detach().numpy()[0]\n",
    "    x = run_mc_sim()\n",
    "    loss = F.mse_loss(x, y).sqrt()\n",
    "    loss.backward()\n",
    "    optimizer.step()\n",
    "    optimizer.zero_grad()\n",
    "    loss_lst.append(loss)\n",
    "    print(loss)"
   ]
  },
  {
   "cell_type": "code",
   "execution_count": null,
   "id": "d073b095",
   "metadata": {},
   "outputs": [],
   "source": [
    "print(loss_lst)"
   ]
  },
  {
   "cell_type": "code",
   "execution_count": null,
   "id": "b7fa5880",
   "metadata": {},
   "outputs": [],
   "source": []
  },
  {
   "cell_type": "code",
   "execution_count": 49,
   "id": "200a355b",
   "metadata": {},
   "outputs": [
    {
     "name": "stdout",
     "output_type": "stream",
     "text": [
      "tensor([ 0,  1,  2,  3,  4,  5,  6,  7,  8,  9, 10, 11, 12, 13, 14, 15, 16, 17,\n",
      "        18, 19, 20, 21, 22, 23, 24, 25, 26, 27, 28, 29, 30, 31, 32, 33, 34, 35,\n",
      "        36, 37, 38, 39, 40, 41, 42, 43, 44, 45, 46, 47, 48, 49, 50, 51, 52, 53,\n",
      "        54, 55, 56, 57, 58, 59, 60, 61, 62, 63, 64, 65, 66, 67, 68, 69, 70, 71,\n",
      "        72, 73, 74, 75, 76, 77, 78, 79, 80, 81, 82, 83, 84, 85, 86, 87, 88, 89,\n",
      "        90, 91, 92, 93, 94, 95, 96, 97, 98, 99])\n"
     ]
    }
   ],
   "source": [
    "x = torch.arange(100)\n",
    "print(x)"
   ]
  },
  {
   "cell_type": "code",
   "execution_count": 50,
   "id": "74c9f4b9",
   "metadata": {},
   "outputs": [
    {
     "name": "stdout",
     "output_type": "stream",
     "text": [
      "<class 'torch.Tensor'>\n"
     ]
    }
   ],
   "source": [
    "print(type(x))"
   ]
  },
  {
   "cell_type": "code",
   "execution_count": 51,
   "id": "17ad3063",
   "metadata": {},
   "outputs": [
    {
     "name": "stdout",
     "output_type": "stream",
     "text": [
      "tensor([4.0000, 2.7358, 2.2707, 2.0996, 2.0366, 2.0135, 2.0050, 2.0018, 2.0007,\n",
      "        2.0002, 2.0001, 2.0000, 2.0000, 2.0000, 2.0000, 2.0000, 2.0000, 2.0000,\n",
      "        2.0000, 2.0000, 2.0000, 2.0000, 2.0000, 2.0000, 2.0000, 2.0000, 2.0000,\n",
      "        2.0000, 2.0000, 2.0000, 2.0000, 2.0000, 2.0000, 2.0000, 2.0000, 2.0000,\n",
      "        2.0000, 2.0000, 2.0000, 2.0000, 2.0000, 2.0000, 2.0000, 2.0000, 2.0000,\n",
      "        2.0000, 2.0000, 2.0000, 2.0000, 2.0000, 2.0000, 2.0000, 2.0000, 2.0000,\n",
      "        2.0000, 2.0000, 2.0000, 2.0000, 2.0000, 2.0000, 2.0000, 2.0000, 2.0000,\n",
      "        2.0000, 2.0000, 2.0000, 2.0000, 2.0000, 2.0000, 2.0000, 2.0000, 2.0000,\n",
      "        2.0000, 2.0000, 2.0000, 2.0000, 2.0000, 2.0000, 2.0000, 2.0000, 2.0000,\n",
      "        2.0000, 2.0000, 2.0000, 2.0000, 2.0000, 2.0000, 2.0000, 2.0000, 2.0000,\n",
      "        2.0000, 2.0000, 2.0000, 2.0000, 2.0000, 2.0000, 2.0000, 2.0000, 2.0000,\n",
      "        2.0000], dtype=torch.float64)\n"
     ]
    }
   ],
   "source": [
    "y = 2*np.exp(-1*x)+2.0\n",
    "print(y)"
   ]
  },
  {
   "cell_type": "code",
   "execution_count": 52,
   "id": "e141ebfd",
   "metadata": {},
   "outputs": [
    {
     "name": "stdout",
     "output_type": "stream",
     "text": [
      "<class 'torch.Tensor'>\n"
     ]
    }
   ],
   "source": [
    "print(type(y))"
   ]
  },
  {
   "cell_type": "code",
   "execution_count": 53,
   "id": "f7215713",
   "metadata": {},
   "outputs": [
    {
     "name": "stdout",
     "output_type": "stream",
     "text": [
      "l1.weight tensor([[-1.2054, -0.0955,  0.6148,  0.2315,  0.6239,  1.4966,  0.0444,  1.5470],\n",
      "        [ 0.4653, -0.8285,  0.9673,  2.8473,  1.1925, -0.5699, -1.3329,  1.3549],\n",
      "        [ 0.6164, -1.5767, -1.0643, -0.0218,  0.7549,  0.4308,  0.7890, -0.0152],\n",
      "        [ 0.2403,  0.1633,  0.1478,  1.0334, -1.1254,  0.9197, -1.6414,  2.5951],\n",
      "        [-0.9303, -1.1390,  0.7712, -0.3013, -2.7851, -0.3284,  0.1731, -0.0343],\n",
      "        [ 1.2011,  0.2623,  3.4304, -1.0774,  0.8623,  0.2146, -0.4372, -0.1637],\n",
      "        [ 0.3223,  0.8549, -0.8223,  0.7837,  1.6972,  2.5701,  0.0098, -1.1990],\n",
      "        [-0.6321,  0.1897,  0.6641,  0.0309, -0.8100, -1.4575, -0.8756, -0.0540]])\n",
      "l1.bias tensor([ 1.3826,  0.5405, -1.1232,  1.9131, -0.2889,  0.7657,  0.5132, -1.1569])\n",
      "l2.weight tensor([[-1.2176, -2.2699,  0.5062,  0.2309, -0.2549, -2.0290, -0.7680, -0.4670]])\n",
      "l2.bias tensor([-2.4637])\n"
     ]
    }
   ],
   "source": [
    "for name, param in model.named_parameters():\n",
    "    if param.requires_grad:\n",
    "        print(name, param.data)"
   ]
  },
  {
   "cell_type": "code",
   "execution_count": 54,
   "id": "508810cb",
   "metadata": {
    "scrolled": true
   },
   "outputs": [
    {
     "data": {
      "text/plain": [
       "tensor([-0.0253], grad_fn=<DivBackward0>)"
      ]
     },
     "execution_count": 54,
     "metadata": {},
     "output_type": "execute_result"
    }
   ],
   "source": [
    "run_mc_sim()"
   ]
  },
  {
   "cell_type": "code",
   "execution_count": 55,
   "id": "1520d084",
   "metadata": {},
   "outputs": [],
   "source": [
    "import time"
   ]
  },
  {
   "cell_type": "code",
   "execution_count": 56,
   "id": "6b983611",
   "metadata": {},
   "outputs": [],
   "source": [
    "x = time.time()"
   ]
  },
  {
   "cell_type": "code",
   "execution_count": 57,
   "id": "99d62158",
   "metadata": {},
   "outputs": [],
   "source": [
    "y = time.time()"
   ]
  },
  {
   "cell_type": "code",
   "execution_count": 58,
   "id": "31b18ce4",
   "metadata": {},
   "outputs": [
    {
     "name": "stdout",
     "output_type": "stream",
     "text": [
      "0.010521888732910156\n"
     ]
    }
   ],
   "source": [
    "print(y-x)"
   ]
  }
 ],
 "metadata": {
  "kernelspec": {
   "display_name": "pyhtonenv",
   "language": "python",
   "name": "pyhtonenv"
  },
  "language_info": {
   "codemirror_mode": {
    "name": "ipython",
    "version": 3
   },
   "file_extension": ".py",
   "mimetype": "text/x-python",
   "name": "python",
   "nbconvert_exporter": "python",
   "pygments_lexer": "ipython3",
   "version": "3.9.13"
  }
 },
 "nbformat": 4,
 "nbformat_minor": 5
}
